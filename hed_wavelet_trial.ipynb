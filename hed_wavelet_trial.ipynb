{
 "cells": [
  {
   "cell_type": "markdown",
   "metadata": {},
   "source": [
    "References:\n",
    "\n",
    "1. https://pytorch.org/tutorials/beginner/blitz/cifar10_tutorial.html#sphx-glr-beginner-blitz-cifar10-tutorial-py\n",
    "2. https://pywavelets.readthedocs.io/en/latest/"
   ]
  },
  {
   "cell_type": "code",
   "execution_count": 1,
   "metadata": {},
   "outputs": [],
   "source": [
    "import os\n",
    "import sys\n",
    "import torch\n",
    "import argparse\n",
    "import torchvision\n",
    "import numpy as np\n",
    "import torch.nn as nn\n",
    "import scipy.io as sio\n",
    "import cv2\n",
    "import pywt\n",
    "import pywt.data\n",
    "import matplotlib.image as image\n",
    "\n",
    "from PIL import Image\n",
    "from tqdm import tqdm\n",
    "from datetime import datetime\n",
    "from collections import defaultdict\n",
    "from torch.optim import lr_scheduler\n",
    "from torch.utils.data import DataLoader\n",
    "from os.path import join, isdir, abspath, dirname\n",
    "import matplotlib.pyplot as plt\n",
    "# Customized import.\n",
    "from networks import HED\n",
    "from datasets import BsdsDataset\n",
    "from utils import Logger, AverageMeter, \\\n",
    "    load_checkpoint, save_checkpoint, load_vgg16_caffe, load_pretrained_caffe\n",
    "\n",
    "\n",
    "# # Parse arguments.\n",
    "# parser = argparse.ArgumentParser(description='HED training.')\n",
    "# # 1. Actions.\n",
    "# parser.add_argument('--test',             default=False,             help='Only test the model.', action='store_true')\n",
    "# # 2. Counts.\n",
    "# parser.add_argument('--train_batch_size', default=1,    type=int,   metavar='N', help='Training batch size.')\n",
    "# parser.add_argument('--test_batch_size',  default=1,    type=int,   metavar='N', help='Test batch size.')\n",
    "# parser.add_argument('--train_iter_size',  default=10,   type=int,   metavar='N', help='Training iteration size.')\n",
    "# parser.add_argument('--max_epoch',        default=40,   type=int,   metavar='N', help='Total epochs.')\n",
    "# parser.add_argument('--print_freq',       default=500,  type=int,   metavar='N', help='Print frequency.')\n",
    "# # 3. Optimizer settings.\n",
    "# parser.add_argument('--lr',               default=1e-6, type=float, metavar='F', help='Initial learning rate.')\n",
    "# parser.add_argument('--lr_stepsize',      default=1e4,  type=int,   metavar='N', help='Learning rate step size.')\n",
    "# # Note: Step size is based on number of iterations, not number of batches.\n",
    "# #   https://github.com/s9xie/hed/blob/94fb22f10cbfec8d84fbc0642b224022014b6bd6/src/caffe/solver.cpp#L498\n",
    "# parser.add_argument('--lr_gamma',         default=0.1,  type=float, metavar='F', help='Learning rate decay (gamma).')\n",
    "# parser.add_argument('--momentum',         default=0.9,  type=float, metavar='F', help='Momentum.')\n",
    "# parser.add_argument('--weight_decay',     default=2e-4, type=float, metavar='F', help='Weight decay.')\n",
    "# # 4. Files and folders.\n",
    "# parser.add_argument('--vgg16_caffe',      default='',                help='Resume VGG-16 Caffe parameters.')\n",
    "# parser.add_argument('--checkpoint',       default='',                help='Resume the checkpoint.')\n",
    "# parser.add_argument('--caffe_model',      default='',                help='Resume HED Caffe model.')\n",
    "# parser.add_argument('--output',           default='./output',        help='Output folder.')\n",
    "# parser.add_argument('--dataset',          default='./data/HED-BSDS', help='HED-BSDS dataset folder.')\n",
    "# # 5. Others.\n",
    "# parser.add_argument('--cpu',              default=False,             help='Enable CPU mode.', action='store_true')\n",
    "# args = parser.parse_args()\n",
    "\n",
    "# Set device.\n",
    "device = torch.device('cuda')\n"
   ]
  },
  {
   "cell_type": "code",
   "execution_count": 2,
   "metadata": {},
   "outputs": [],
   "source": [
    "def wav_trans_grayscale(images):\n",
    "    images = torchvision.utils.make_grid(images)\n",
    "    npimg = images.numpy()\n",
    "    img_np_right_dim = np.transpose(npimg, (1, 2, 0))\n",
    "    img_np_right_dim = cv2.cvtColor(img_np_right_dim, cv2.COLOR_BGR2GRAY)\n",
    "    coeffs2 = pywt.dwt2(img_np_right_dim, 'haar')\n",
    "    LL, (LH, HL, HH) = coeffs2\n",
    "    return([LL, LH, HL, HH])\n",
    "\n",
    "def WT_grayscale_path_input(path):  \n",
    "    \"\"\"Takes as input path string\"\"\"\n",
    "    orig_image = plt.imread(path)\n",
    "    if(len(orig_image.shape)==3):\n",
    "        gray_image = cv2.cvtColor(orig_image, cv2.COLOR_BGR2GRAY)\n",
    "    else:\n",
    "        gray_image = orig_image\n",
    "    coeffs2 = pywt.dwt2(gray_image, 'haar')\n",
    "    LL, (LH, HL, HH) = coeffs2\n",
    "    return [LL, LH, HL, HH]\n",
    "\n",
    "def im_save_path_modifier(input_path, mode):\n",
    "    \"\"\"\n",
    "    parameter: input_path is the path of the original image\n",
    "    parameter: mode is one of LL, LH, HL, HH\n",
    "    \"\"\"\n",
    "    dir_path = input_path[:16] + f'{mode}/' + input_path[16:input_path.rfind('/')]\n",
    "    image_path = input_path[:16] + f'{mode}/' + input_path[16:]\n",
    "    return(dir_path, image_path)\n",
    "\n",
    "def imshow(img):\n",
    "#     img = img / 2 + 0.5     # unnormalize\n",
    "    npimg = img.numpy()\n",
    "    plt.imshow(np.transpose(npimg, (1, 2, 0)))\n",
    "    plt.show()"
   ]
  },
  {
   "cell_type": "code",
   "execution_count": 3,
   "metadata": {},
   "outputs": [
    {
     "ename": "NameError",
     "evalue": "name '__file__' is not defined",
     "output_type": "error",
     "traceback": [
      "\u001b[0;31m\u001b[0m",
      "\u001b[0;31mNameError\u001b[0mTraceback (most recent call last)",
      "\u001b[0;32m<ipython-input-3-8f96b56bc43e>\u001b[0m in \u001b[0;36m<module>\u001b[0;34m\u001b[0m\n\u001b[0;32m----> 1\u001b[0;31m \u001b[0mcurrent_dir\u001b[0m \u001b[0;34m=\u001b[0m \u001b[0mabspath\u001b[0m\u001b[0;34m(\u001b[0m\u001b[0mdirname\u001b[0m\u001b[0;34m(\u001b[0m\u001b[0m__file__\u001b[0m\u001b[0;34m)\u001b[0m\u001b[0;34m)\u001b[0m\u001b[0;34m\u001b[0m\u001b[0;34m\u001b[0m\u001b[0m\n\u001b[0m",
      "\u001b[0;31mNameError\u001b[0m: name '__file__' is not defined"
     ]
    }
   ],
   "source": [
    "current_dir = abspath(dirname(__file__))"
   ]
  },
  {
   "cell_type": "code",
   "execution_count": 3,
   "metadata": {},
   "outputs": [],
   "source": [
    "################################################\n",
    "# II. Datasets.\n",
    "################################################\n",
    "# Datasets and dataloaders.\n",
    "\n",
    "train_dataset_LL = BsdsDataset(dataset_dir='./data/HED-BSDS/LL', split='train')\n",
    "\n",
    "train_dataset_LH = BsdsDataset(dataset_dir='./data/HED-BSDS/LH', split='train')\n",
    "\n",
    "train_dataset_HL = BsdsDataset(dataset_dir='./data/HED-BSDS/HL', split='train')\n",
    "\n",
    "train_dataset_HH = BsdsDataset(dataset_dir='./data/HED-BSDS/HH', split='train')\n",
    "\n",
    "train_loader_LL  = DataLoader(train_dataset_LL, batch_size=1,\n",
    "                           num_workers=4, drop_last=True, shuffle=False)\n",
    "\n",
    "train_loader_LH  = DataLoader(train_dataset_LH, batch_size=1,\n",
    "                           num_workers=4, drop_last=True, shuffle=False)\n",
    "\n",
    "train_loader_HL  = DataLoader(train_dataset_HL, batch_size=1,\n",
    "                           num_workers=4, drop_last=True, shuffle=False)\n",
    "\n",
    "train_loader_HH  = DataLoader(train_dataset_HH, batch_size=1,\n",
    "                           num_workers=4, drop_last=True, shuffle=False)\n",
    "\n",
    "\n",
    "# test_dataset  = BsdsDataset(dataset_dir='./data/HED-BSDS', split='test')\n",
    "\n",
    "# test_loader   = DataLoader(test_dataset,  batch_size=1,\n",
    "#                            num_workers=4, drop_last=False, shuffle=False)\n",
    "\n"
   ]
  },
  {
   "cell_type": "code",
   "execution_count": 4,
   "metadata": {},
   "outputs": [],
   "source": [
    "dataiter_LL = iter(train_loader_LL)\n",
    "dataiter_LH = iter(train_loader_LH)\n",
    "dataiter_HL = iter(train_loader_HL)\n",
    "dataiter_HH = iter(train_loader_HH)"
   ]
  },
  {
   "cell_type": "code",
   "execution_count": 5,
   "metadata": {},
   "outputs": [],
   "source": [
    "# step 1: import 4 images from 4 dataloaders.\n",
    "\n",
    "images_LL, labels1 = dataiter_LL.next()\n",
    "images_LH, labels2 = dataiter_LH.next()\n",
    "images_HL, labels3 = dataiter_HL.next()\n",
    "images_HH, labels4 = dataiter_HH.next()\n"
   ]
  },
  {
   "cell_type": "code",
   "execution_count": 6,
   "metadata": {},
   "outputs": [
    {
     "data": {
      "text/plain": [
       "True"
      ]
     },
     "execution_count": 6,
     "metadata": {},
     "output_type": "execute_result"
    }
   ],
   "source": [
    "# verify that the images are the same\n",
    "torch.equal(labels3, labels4)"
   ]
  },
  {
   "cell_type": "code",
   "execution_count": 7,
   "metadata": {},
   "outputs": [],
   "source": [
    "net = nn.DataParallel(HED(device))\n",
    "net.to(device);"
   ]
  },
  {
   "cell_type": "code",
   "execution_count": 8,
   "metadata": {},
   "outputs": [],
   "source": [
    "# Initialize the weights for HED model.\n",
    "def weights_init(m):\n",
    "    \"\"\" Weight initialization function. \"\"\"\n",
    "    if isinstance(m, nn.Conv2d):\n",
    "        # Initialize: m.weight.\n",
    "        if m.weight.data.shape == torch.Size([1, 5, 1, 1]):\n",
    "            # Constant initialization for fusion layer in HED network.\n",
    "            torch.nn.init.constant_(m.weight, 0.2)\n",
    "        else:\n",
    "            # Zero initialization following official repository.\n",
    "            # Reference: hed/docs/tutorial/layers.md\n",
    "            m.weight.data.zero_()\n",
    "        # Initialize: m.bias.\n",
    "        if m.bias is not None:\n",
    "            # Zero initialization.\n",
    "            m.bias.data.zero_()"
   ]
  },
  {
   "cell_type": "code",
   "execution_count": 9,
   "metadata": {},
   "outputs": [],
   "source": [
    "net.apply(weights_init);\n"
   ]
  },
  {
   "cell_type": "code",
   "execution_count": 10,
   "metadata": {},
   "outputs": [],
   "source": [
    "net_parameters_id = defaultdict(list)"
   ]
  },
  {
   "cell_type": "code",
   "execution_count": 11,
   "metadata": {
    "scrolled": true
   },
   "outputs": [
    {
     "name": "stdout",
     "output_type": "stream",
     "text": [
      "module.conv1_1.weight      lr:    1 decay:1\n",
      "module.conv1_1.bias        lr:    2 decay:0\n",
      "module.conv1_2.weight      lr:    1 decay:1\n",
      "module.conv1_2.bias        lr:    2 decay:0\n",
      "module.conv2_1.weight      lr:    1 decay:1\n",
      "module.conv2_1.bias        lr:    2 decay:0\n",
      "module.conv2_2.weight      lr:    1 decay:1\n",
      "module.conv2_2.bias        lr:    2 decay:0\n",
      "module.conv3_1.weight      lr:    1 decay:1\n",
      "module.conv3_1.bias        lr:    2 decay:0\n",
      "module.conv3_2.weight      lr:    1 decay:1\n",
      "module.conv3_2.bias        lr:    2 decay:0\n",
      "module.conv3_3.weight      lr:    1 decay:1\n",
      "module.conv3_3.bias        lr:    2 decay:0\n",
      "module.conv4_1.weight      lr:    1 decay:1\n",
      "module.conv4_1.bias        lr:    2 decay:0\n",
      "module.conv4_2.weight      lr:    1 decay:1\n",
      "module.conv4_2.bias        lr:    2 decay:0\n",
      "module.conv4_3.weight      lr:    1 decay:1\n",
      "module.conv4_3.bias        lr:    2 decay:0\n",
      "module.conv5_1.weight      lr:  100 decay:1\n",
      "module.conv5_1.bias        lr:  200 decay:0\n",
      "module.conv5_2.weight      lr:  100 decay:1\n",
      "module.conv5_2.bias        lr:  200 decay:0\n",
      "module.conv5_3.weight      lr:  100 decay:1\n",
      "module.conv5_3.bias        lr:  200 decay:0\n",
      "module.score_dsn1.weight   lr: 0.01 decay:1\n",
      "module.score_dsn1.bias     lr: 0.02 decay:0\n",
      "module.score_dsn2.weight   lr: 0.01 decay:1\n",
      "module.score_dsn2.bias     lr: 0.02 decay:0\n",
      "module.score_dsn3.weight   lr: 0.01 decay:1\n",
      "module.score_dsn3.bias     lr: 0.02 decay:0\n",
      "module.score_dsn4.weight   lr: 0.01 decay:1\n",
      "module.score_dsn4.bias     lr: 0.02 decay:0\n",
      "module.score_dsn5.weight   lr: 0.01 decay:1\n",
      "module.score_dsn5.bias     lr: 0.02 decay:0\n",
      "module.score_final.weight  lr:0.001 decay:1\n",
      "module.score_final.bias    lr:0.002 decay:0\n"
     ]
    }
   ],
   "source": [
    "# Optimizer settings.\n",
    "net_parameters_id = defaultdict(list)\n",
    "for name, param in net.named_parameters():\n",
    "    if name in ['module.conv1_1.weight', 'module.conv1_2.weight',\n",
    "                'module.conv2_1.weight', 'module.conv2_2.weight',\n",
    "                'module.conv3_1.weight', 'module.conv3_2.weight', 'module.conv3_3.weight',\n",
    "                'module.conv4_1.weight', 'module.conv4_2.weight', 'module.conv4_3.weight']:\n",
    "        print('{:26} lr:    1 decay:1'.format(name)); net_parameters_id['conv1-4.weight'].append(param)\n",
    "    elif name in ['module.conv1_1.bias', 'module.conv1_2.bias',\n",
    "                  'module.conv2_1.bias', 'module.conv2_2.bias',\n",
    "                  'module.conv3_1.bias', 'module.conv3_2.bias', 'module.conv3_3.bias',\n",
    "                  'module.conv4_1.bias', 'module.conv4_2.bias', 'module.conv4_3.bias']:\n",
    "        print('{:26} lr:    2 decay:0'.format(name)); net_parameters_id['conv1-4.bias'].append(param)\n",
    "    elif name in ['module.conv5_1.weight', 'module.conv5_2.weight', 'module.conv5_3.weight']:\n",
    "        print('{:26} lr:  100 decay:1'.format(name)); net_parameters_id['conv5.weight'].append(param)\n",
    "    elif name in ['module.conv5_1.bias', 'module.conv5_2.bias', 'module.conv5_3.bias'] :\n",
    "        print('{:26} lr:  200 decay:0'.format(name)); net_parameters_id['conv5.bias'].append(param)\n",
    "    elif name in ['module.score_dsn1.weight', 'module.score_dsn2.weight',\n",
    "                  'module.score_dsn3.weight', 'module.score_dsn4.weight', 'module.score_dsn5.weight']:\n",
    "        print('{:26} lr: 0.01 decay:1'.format(name)); net_parameters_id['score_dsn_1-5.weight'].append(param)\n",
    "    elif name in ['module.score_dsn1.bias', 'module.score_dsn2.bias',\n",
    "                  'module.score_dsn3.bias', 'module.score_dsn4.bias', 'module.score_dsn5.bias']:\n",
    "        print('{:26} lr: 0.02 decay:0'.format(name)); net_parameters_id['score_dsn_1-5.bias'].append(param)\n",
    "    elif name in ['module.score_final.weight']:\n",
    "        print('{:26} lr:0.001 decay:1'.format(name)); net_parameters_id['score_final.weight'].append(param)\n",
    "    elif name in ['module.score_final.bias']:\n",
    "        print('{:26} lr:0.002 decay:0'.format(name)); net_parameters_id['score_final.bias'].append(param)\n"
   ]
  },
  {
   "cell_type": "code",
   "execution_count": 12,
   "metadata": {},
   "outputs": [],
   "source": [
    "lr = 1e-6\n",
    "momentum = 0.9\n",
    "weight_decay = 2e-4\n",
    "lr_stepsize = 1e4\n",
    "lr_gamma = 0.1"
   ]
  },
  {
   "cell_type": "code",
   "execution_count": 13,
   "metadata": {},
   "outputs": [],
   "source": [
    "# Create optimizer.\n",
    "opt = torch.optim.SGD([\n",
    "    {'params': net_parameters_id['conv1-4.weight']      , 'lr': lr*1    , 'weight_decay': weight_decay},\n",
    "    {'params': net_parameters_id['conv1-4.bias']        , 'lr': lr*2    , 'weight_decay': 0.},\n",
    "    {'params': net_parameters_id['conv5.weight']        , 'lr': lr*100  , 'weight_decay': weight_decay},\n",
    "    {'params': net_parameters_id['conv5.bias']          , 'lr': lr*200  , 'weight_decay': 0.},\n",
    "    {'params': net_parameters_id['score_dsn_1-5.weight'], 'lr': lr*0.01 , 'weight_decay': weight_decay},\n",
    "    {'params': net_parameters_id['score_dsn_1-5.bias']  , 'lr': lr*0.02 , 'weight_decay': 0.},\n",
    "    {'params': net_parameters_id['score_final.weight']  , 'lr': lr*0.001, 'weight_decay': weight_decay},\n",
    "    {'params': net_parameters_id['score_final.bias']    , 'lr': lr*0.002, 'weight_decay': 0.},\n",
    "], lr=lr, momentum=momentum, weight_decay=weight_decay)\n",
    "# Note: In train_val.prototxt and deploy.prototxt, the learning rates of score_final.weight/bias are different.\n",
    "\n",
    "# Learning rate scheduler.\n",
    "lr_schd = lr_scheduler.StepLR(opt, step_size=lr_stepsize, gamma=lr_gamma)\n"
   ]
  },
  {
   "cell_type": "code",
   "execution_count": 14,
   "metadata": {},
   "outputs": [
    {
     "name": "stdout",
     "output_type": "stream",
     "text": [
      "=> Start loading parameters...\n",
      "=> Loaded module.conv1_1.weight.\n",
      "=> Loaded module.conv1_1.bias.\n",
      "=> Loaded module.conv1_2.weight.\n",
      "=> Loaded module.conv1_2.bias.\n",
      "=> Loaded module.conv2_1.weight.\n",
      "=> Loaded module.conv2_1.bias.\n",
      "=> Loaded module.conv2_2.weight.\n",
      "=> Loaded module.conv2_2.bias.\n",
      "=> Loaded module.conv3_1.weight.\n",
      "=> Loaded module.conv3_1.bias.\n",
      "=> Loaded module.conv3_2.weight.\n",
      "=> Loaded module.conv3_2.bias.\n",
      "=> Loaded module.conv3_3.weight.\n",
      "=> Loaded module.conv3_3.bias.\n",
      "=> Loaded module.conv4_1.weight.\n",
      "=> Loaded module.conv4_1.bias.\n",
      "=> Loaded module.conv4_2.weight.\n",
      "=> Loaded module.conv4_2.bias.\n",
      "=> Loaded module.conv4_3.weight.\n",
      "=> Loaded module.conv4_3.bias.\n",
      "=> Loaded module.conv5_1.weight.\n",
      "=> Loaded module.conv5_1.bias.\n",
      "=> Loaded module.conv5_2.weight.\n",
      "=> Loaded module.conv5_2.bias.\n",
      "=> Loaded module.conv5_3.weight.\n",
      "=> Loaded module.conv5_3.bias.\n",
      "=> Finish loading parameters.\n"
     ]
    }
   ],
   "source": [
    "################################################\n",
    "# IV. Pre-trained parameters.\n",
    "################################################\n",
    "# Load parameters from pre-trained VGG-16 Caffe model.\n",
    "load_vgg16_caffe(net, './data/5stage-vgg.py36pickle');\n",
    "\n",
    "# # Resume the checkpoint.\n",
    "# if args.checkpoint:\n",
    "#     load_checkpoint(net, opt, args.checkpoint)  # Omit the returned values.\n",
    "\n",
    "# # Resume the HED Caffe model.\n",
    "# if args.caffe_model:\n",
    "#     load_pretrained_caffe(net, args.caffe_model)\n"
   ]
  },
  {
   "cell_type": "code",
   "execution_count": 15,
   "metadata": {},
   "outputs": [
    {
     "name": "stderr",
     "output_type": "stream",
     "text": [
      "/datasets/home/24/524/cpatil/.local/lib/python3.7/site-packages/torch/optim/lr_scheduler.py:122: UserWarning: Detected call of `lr_scheduler.step()` before `optimizer.step()`. In PyTorch 1.1.0 and later, you should call them in the opposite order: `optimizer.step()` before `lr_scheduler.step()`.  Failure to do this will result in PyTorch skipping the first value of the learning rate schedule. See more details at https://pytorch.org/docs/stable/optim.html#how-to-adjust-learning-rate\n",
      "  \"https://pytorch.org/docs/stable/optim.html#how-to-adjust-learning-rate\", UserWarning)\n"
     ]
    }
   ],
   "source": [
    "net.train()\n",
    "opt.zero_grad()\n",
    "batch_loss_meter = AverageMeter()\n",
    "lr_schd.step()\n",
    "images_LL, labels1 = images_LL.to(device), labels1.to(device)\n"
   ]
  },
  {
   "cell_type": "code",
   "execution_count": 46,
   "metadata": {},
   "outputs": [],
   "source": [
    "preds_list_LL = net(images_LL)\n",
    "preds_list_LH = net(images_LH)\n",
    "preds_list_HL = net(images_HL)\n",
    "preds_list_HH = net(images_HH)"
   ]
  },
  {
   "cell_type": "code",
   "execution_count": 47,
   "metadata": {},
   "outputs": [
    {
     "data": {
      "text/plain": [
       "torch.Size([1, 1, 192, 272])"
      ]
     },
     "execution_count": 47,
     "metadata": {},
     "output_type": "execute_result"
    }
   ],
   "source": [
    "preds_list_HH[0].shape"
   ]
  },
  {
   "cell_type": "code",
   "execution_count": 18,
   "metadata": {},
   "outputs": [],
   "source": []
  },
  {
   "cell_type": "code",
   "execution_count": 49,
   "metadata": {},
   "outputs": [],
   "source": [
    "list_reconstruct = []\n",
    "for i in range(6):\n",
    "    LL = preds_list_LL[i].cpu().detach().numpy().reshape(192, 272)\n",
    "    LH = preds_list_LH[i].cpu().detach().numpy().reshape(192, 272)\n",
    "    HL = preds_list_HL[i].cpu().detach().numpy().reshape(192, 272)\n",
    "    HH = preds_list_HH[i].cpu().detach().numpy().reshape(192, 272)\n",
    "    full_image = pywt.idwt2((LL, (LH, HL, HH)), 'haar')\n",
    "    list_reconstruct.append(full_image)"
   ]
  },
  {
   "cell_type": "code",
   "execution_count": 51,
   "metadata": {},
   "outputs": [
    {
     "data": {
      "text/plain": [
       "(384, 544)"
      ]
     },
     "execution_count": 51,
     "metadata": {},
     "output_type": "execute_result"
    }
   ],
   "source": [
    "full_image.shape # assume this is the correct shape"
   ]
  },
  {
   "cell_type": "code",
   "execution_count": 53,
   "metadata": {},
   "outputs": [],
   "source": [
    "# calculate loss\n",
    "\n",
    "def weighted_cross_entropy_loss(preds, edges):\n",
    "    \"\"\" Calculate sum of weighted cross entropy loss. \"\"\"\n",
    "    # Reference:\n",
    "    #   hed/src/caffe/layers/sigmoid_cross_entropy_loss_layer.cpp\n",
    "    #   https://github.com/s9xie/hed/issues/7\n",
    "    mask = (edges > 0.5).float()\n",
    "    b, c, h, w = mask.shape\n",
    "    num_pos = torch.sum(mask, dim=[1, 2, 3]).float()  # Shape: [b,].\n",
    "    num_neg = c * h * w - num_pos                     # Shape: [b,].\n",
    "    weight = torch.zeros_like(mask)\n",
    "    weight[edges > 0.5]  = num_neg / (num_pos + num_neg)\n",
    "    weight[edges <= 0.5] = num_pos / (num_pos + num_neg)\n",
    "    # Calculate loss.\n",
    "    losses = torch.nn.functional.binary_cross_entropy(preds.float(), edges.float(), weight=weight, reduction='none')\n",
    "    loss   = torch.sum(losses) / b\n",
    "    return loss"
   ]
  },
  {
   "cell_type": "code",
   "execution_count": 50,
   "metadata": {},
   "outputs": [
    {
     "data": {
      "text/plain": [
       "<matplotlib.image.AxesImage at 0x7f5f4f936e10>"
      ]
     },
     "execution_count": 50,
     "metadata": {},
     "output_type": "execute_result"
    },
    {
     "data": {
      "image/png": "[encoded data removed]",
      "text/plain": [
       "<Figure size 432x288 with 1 Axes>"
      ]
     },
     "metadata": {
      "needs_background": "light"
     },
     "output_type": "display_data"
    }
   ],
   "source": [
    "plt.imshow(list_reconstruct[3], cmap = 'gray')"
   ]
  },
  {
   "cell_type": "code",
   "execution_count": 5,
   "metadata": {},
   "outputs": [
    {
     "data": {
      "text/plain": [
       "28800"
      ]
     },
     "execution_count": 5,
     "metadata": {},
     "output_type": "execute_result"
    }
   ],
   "source": [
    "train_dataset.__len__()"
   ]
  },
  {
   "cell_type": "code",
   "execution_count": 119,
   "metadata": {},
   "outputs": [
    {
     "ename": "StopIteration",
     "evalue": "",
     "output_type": "error",
     "traceback": [
      "\u001b[0;31m\u001b[0m",
      "\u001b[0;31mStopIteration\u001b[0mTraceback (most recent call last)",
      "\u001b[0;32m<ipython-input-119-08d8b491895d>\u001b[0m in \u001b[0;36m<module>\u001b[0;34m\u001b[0m\n\u001b[0;32m----> 1\u001b[0;31m \u001b[0mimages\u001b[0m\u001b[0;34m,\u001b[0m \u001b[0mlabels\u001b[0m\u001b[0;34m,\u001b[0m \u001b[0mpath\u001b[0m\u001b[0;34m,\u001b[0m \u001b[0mlabel_path\u001b[0m \u001b[0;34m=\u001b[0m \u001b[0mdataiter\u001b[0m\u001b[0;34m.\u001b[0m\u001b[0mnext\u001b[0m\u001b[0;34m(\u001b[0m\u001b[0;34m)\u001b[0m\u001b[0;34m\u001b[0m\u001b[0;34m\u001b[0m\u001b[0m\n\u001b[0m\u001b[1;32m      2\u001b[0m \u001b[0;34m\u001b[0m\u001b[0m\n\u001b[1;32m      3\u001b[0m \u001b[0mwav_trans_imlist\u001b[0m \u001b[0;34m=\u001b[0m \u001b[0mWT_grayscale_path_input\u001b[0m\u001b[0;34m(\u001b[0m\u001b[0mpath\u001b[0m\u001b[0;34m[\u001b[0m\u001b[0;36m0\u001b[0m\u001b[0;34m]\u001b[0m\u001b[0;34m)\u001b[0m\u001b[0;34m\u001b[0m\u001b[0;34m\u001b[0m\u001b[0m\n\u001b[1;32m      4\u001b[0m \u001b[0mwav_trans_imlist_names\u001b[0m  \u001b[0;34m=\u001b[0m \u001b[0;34m[\u001b[0m\u001b[0;34m'LL'\u001b[0m\u001b[0;34m,\u001b[0m \u001b[0;34m'LH'\u001b[0m\u001b[0;34m,\u001b[0m \u001b[0;34m'HL'\u001b[0m\u001b[0;34m,\u001b[0m \u001b[0;34m'HH'\u001b[0m\u001b[0;34m]\u001b[0m\u001b[0;34m\u001b[0m\u001b[0;34m\u001b[0m\u001b[0m\n\u001b[1;32m      5\u001b[0m \u001b[0;34m\u001b[0m\u001b[0m\n",
      "\u001b[0;32m~/.local/lib/python3.7/site-packages/torch/utils/data/dataloader.py\u001b[0m in \u001b[0;36m__next__\u001b[0;34m(self)\u001b[0m\n\u001b[1;32m    343\u001b[0m \u001b[0;34m\u001b[0m\u001b[0m\n\u001b[1;32m    344\u001b[0m     \u001b[0;32mdef\u001b[0m \u001b[0m__next__\u001b[0m\u001b[0;34m(\u001b[0m\u001b[0mself\u001b[0m\u001b[0;34m)\u001b[0m\u001b[0;34m:\u001b[0m\u001b[0;34m\u001b[0m\u001b[0;34m\u001b[0m\u001b[0m\n\u001b[0;32m--> 345\u001b[0;31m         \u001b[0mdata\u001b[0m \u001b[0;34m=\u001b[0m \u001b[0mself\u001b[0m\u001b[0;34m.\u001b[0m\u001b[0m_next_data\u001b[0m\u001b[0;34m(\u001b[0m\u001b[0;34m)\u001b[0m\u001b[0;34m\u001b[0m\u001b[0;34m\u001b[0m\u001b[0m\n\u001b[0m\u001b[1;32m    346\u001b[0m         \u001b[0mself\u001b[0m\u001b[0;34m.\u001b[0m\u001b[0m_num_yielded\u001b[0m \u001b[0;34m+=\u001b[0m \u001b[0;36m1\u001b[0m\u001b[0;34m\u001b[0m\u001b[0;34m\u001b[0m\u001b[0m\n\u001b[1;32m    347\u001b[0m         \u001b[0;32mif\u001b[0m \u001b[0mself\u001b[0m\u001b[0;34m.\u001b[0m\u001b[0m_dataset_kind\u001b[0m \u001b[0;34m==\u001b[0m \u001b[0m_DatasetKind\u001b[0m\u001b[0;34m.\u001b[0m\u001b[0mIterable\u001b[0m \u001b[0;32mand\u001b[0m\u001b[0;31m \u001b[0m\u001b[0;31m\\\u001b[0m\u001b[0;34m\u001b[0m\u001b[0;34m\u001b[0m\u001b[0m\n",
      "\u001b[0;32m~/.local/lib/python3.7/site-packages/torch/utils/data/dataloader.py\u001b[0m in \u001b[0;36m_next_data\u001b[0;34m(self)\u001b[0m\n\u001b[1;32m    829\u001b[0m                 \u001b[0;31m# no valid `self._rcvd_idx` is found (i.e., didn't break)\u001b[0m\u001b[0;34m\u001b[0m\u001b[0;34m\u001b[0m\u001b[0;34m\u001b[0m\u001b[0m\n\u001b[1;32m    830\u001b[0m                 \u001b[0mself\u001b[0m\u001b[0;34m.\u001b[0m\u001b[0m_shutdown_workers\u001b[0m\u001b[0;34m(\u001b[0m\u001b[0;34m)\u001b[0m\u001b[0;34m\u001b[0m\u001b[0;34m\u001b[0m\u001b[0m\n\u001b[0;32m--> 831\u001b[0;31m                 \u001b[0;32mraise\u001b[0m \u001b[0mStopIteration\u001b[0m\u001b[0;34m\u001b[0m\u001b[0;34m\u001b[0m\u001b[0m\n\u001b[0m\u001b[1;32m    832\u001b[0m \u001b[0;34m\u001b[0m\u001b[0m\n\u001b[1;32m    833\u001b[0m             \u001b[0;31m# Now `self._rcvd_idx` is the batch index we want to fetch\u001b[0m\u001b[0;34m\u001b[0m\u001b[0;34m\u001b[0m\u001b[0;34m\u001b[0m\u001b[0m\n",
      "\u001b[0;31mStopIteration\u001b[0m: "
     ]
    }
   ],
   "source": [
    "images, labels, path, label_path = dataiter.next()\n",
    "\n",
    "wav_trans_imlist = WT_grayscale_path_input(path[0])\n",
    "wav_trans_imlist_names  = ['LL', 'LH', 'HL', 'HH']\n",
    "\n",
    "\n",
    "for i in range(len(wav_trans_imlist)):\n",
    "    \n",
    "    # saving image\n",
    "    \n",
    "    dir_path, image_path = im_save_path_modifier(path[0], str(wav_trans_imlist_names[i]))\n",
    "    os.makedirs(dir_path)\n",
    "    plt.imsave(image_path, wav_trans_imlist[i], cmap = 'gray')\n",
    "    \n",
    "    # saving label\n",
    "    # retrieve label image\n",
    "    im_label = plt.imread(label_path[0])\n",
    "    label_dir_path_new, label_path_new = im_save_path_modifier(label_path[0], str(wav_trans_imlist_names[i]))\n",
    "    os.makedirs(label_dir_path_new)\n",
    "    plt.imsave(label_path_new, im_label, cmap = 'gray')\n"
   ]
  },
  {
   "cell_type": "code",
   "execution_count": 106,
   "metadata": {},
   "outputs": [],
   "source": [
    "sad_images = []\n",
    "sad_labels = []"
   ]
  },
  {
   "cell_type": "code",
   "execution_count": 1,
   "metadata": {},
   "outputs": [
    {
     "ename": "NameError",
     "evalue": "name 'tqdm' is not defined",
     "output_type": "error",
     "traceback": [
      "\u001b[0;31m\u001b[0m",
      "\u001b[0;31mNameError\u001b[0mTraceback (most recent call last)",
      "\u001b[0;32m<ipython-input-1-cd6b2a3f6169>\u001b[0m in \u001b[0;36m<module>\u001b[0;34m\u001b[0m\n\u001b[0;32m----> 1\u001b[0;31m \u001b[0;32mfor\u001b[0m \u001b[0mj\u001b[0m\u001b[0;34m,\u001b[0m \u001b[0mdata\u001b[0m \u001b[0;32min\u001b[0m \u001b[0mtqdm\u001b[0m\u001b[0;34m(\u001b[0m\u001b[0menumerate\u001b[0m\u001b[0;34m(\u001b[0m\u001b[0mtrain_loader\u001b[0m\u001b[0;34m,\u001b[0m \u001b[0;36m0\u001b[0m\u001b[0;34m)\u001b[0m\u001b[0;34m)\u001b[0m\u001b[0;34m:\u001b[0m\u001b[0;34m\u001b[0m\u001b[0;34m\u001b[0m\u001b[0m\n\u001b[0m\u001b[1;32m      2\u001b[0m \u001b[0;34m\u001b[0m\u001b[0m\n\u001b[1;32m      3\u001b[0m     \u001b[0mimages\u001b[0m\u001b[0;34m,\u001b[0m \u001b[0mpath\u001b[0m \u001b[0;34m=\u001b[0m \u001b[0mdata\u001b[0m\u001b[0;34m\u001b[0m\u001b[0;34m\u001b[0m\u001b[0m\n\u001b[1;32m      4\u001b[0m \u001b[0;34m\u001b[0m\u001b[0m\n\u001b[1;32m      5\u001b[0m     \u001b[0mprint\u001b[0m\u001b[0;34m(\u001b[0m\u001b[0mpath\u001b[0m\u001b[0;34m[\u001b[0m\u001b[0;36m0\u001b[0m\u001b[0;34m]\u001b[0m\u001b[0;34m)\u001b[0m\u001b[0;34m\u001b[0m\u001b[0;34m\u001b[0m\u001b[0m\n",
      "\u001b[0;31mNameError\u001b[0m: name 'tqdm' is not defined"
     ]
    }
   ],
   "source": [
    "for j, data in tqdm(enumerate(train_loader, 0)):\n",
    "    \n",
    "    images, path = data\n",
    "    \n",
    "    print(path[0])\n",
    "\n",
    "#     wav_trans_imlist = WT_grayscale_path_input(path[0])\n",
    "#     wav_trans_imlist_names  = ['LL', 'LH', 'HL', 'HH']\n",
    "\n",
    "\n",
    "#     for i in range(len(wav_trans_imlist)):\n",
    "\n",
    "#         # saving image\n",
    "\n",
    "#         dir_path, image_path = im_save_path_modifier(path[0], str(wav_trans_imlist_names[i]))\n",
    "#         os.makedirs(dir_path, exist_ok=True)\n",
    "#         plt.imsave(image_path, wav_trans_imlist[i], cmap = 'gray')\n",
    "\n",
    "#         # saving label\n",
    "#         # retrieve label image\n",
    "#         im_label = plt.imread(label_path[0])\n",
    "#         label_dir_path_new, label_path_new = im_save_path_modifier(label_path[0], str(wav_trans_imlist_names[i]))\n",
    "#         os.makedirs(label_dir_path_new, exist_ok=True)\n",
    "#         plt.imsave(label_path_new, im_label, cmap = 'gray')\n",
    "        \n",
    "#     if(j%1000==0):\n",
    "#         print(j)"
   ]
  },
  {
   "cell_type": "code",
   "execution_count": 109,
   "metadata": {},
   "outputs": [
    {
     "data": {
      "text/plain": [
       "15684"
      ]
     },
     "execution_count": 109,
     "metadata": {},
     "output_type": "execute_result"
    }
   ],
   "source": [
    "len(sad_labels)"
   ]
  },
  {
   "cell_type": "markdown",
   "metadata": {},
   "source": [
    "Idea: Instead of taking image from the dataloader, we take the image path from it and get the image ourselves from the path. So we don't have to deal with torch tensors."
   ]
  },
  {
   "cell_type": "markdown",
   "metadata": {},
   "source": [
    "We should convert to numpy before saving images and labels."
   ]
  },
  {
   "cell_type": "code",
   "execution_count": null,
   "metadata": {
    "scrolled": false
   },
   "outputs": [],
   "source": [
    "imshow(torchvision.utils.make_grid(images))"
   ]
  },
  {
   "cell_type": "markdown",
   "metadata": {},
   "source": [
    "Preprocessing:  \n",
    "Option 1:\n",
    "\n",
    "1. Take wavelet transform of every channel\n",
    "2. Stack up RGB channels after performing wavelet transform\n",
    "3. Feed this to network.\n",
    "\n",
    "Option 2:\n",
    "\n",
    "1. Take grayscale of the input image\n",
    "2. Pass this to network.  \n",
    "Note: For option 2, we will have to change the first layer of the network to suit our changed dimensions of input."
   ]
  },
  {
   "cell_type": "code",
   "execution_count": 18,
   "metadata": {},
   "outputs": [
    {
     "ename": "NameError",
     "evalue": "name 'LL' is not defined",
     "output_type": "error",
     "traceback": [
      "\u001b[0;31m\u001b[0m",
      "\u001b[0;31mNameError\u001b[0mTraceback (most recent call last)",
      "\u001b[0;32m<ipython-input-18-3f2ce61540d1>\u001b[0m in \u001b[0;36m<module>\u001b[0;34m\u001b[0m\n\u001b[1;32m      1\u001b[0m \u001b[0mfig\u001b[0m \u001b[0;34m=\u001b[0m \u001b[0mplt\u001b[0m\u001b[0;34m.\u001b[0m\u001b[0mfigure\u001b[0m\u001b[0;34m(\u001b[0m\u001b[0mfigsize\u001b[0m \u001b[0;34m=\u001b[0m \u001b[0;34m[\u001b[0m\u001b[0;36m10\u001b[0m\u001b[0;34m,\u001b[0m\u001b[0;36m10\u001b[0m\u001b[0;34m]\u001b[0m\u001b[0;34m)\u001b[0m\u001b[0;34m\u001b[0m\u001b[0;34m\u001b[0m\u001b[0m\n\u001b[1;32m      2\u001b[0m \u001b[0max1\u001b[0m \u001b[0;34m=\u001b[0m \u001b[0mfig\u001b[0m\u001b[0;34m.\u001b[0m\u001b[0madd_subplot\u001b[0m\u001b[0;34m(\u001b[0m\u001b[0;36m221\u001b[0m\u001b[0;34m)\u001b[0m\u001b[0;34m\u001b[0m\u001b[0;34m\u001b[0m\u001b[0m\n\u001b[0;32m----> 3\u001b[0;31m \u001b[0max1\u001b[0m\u001b[0;34m.\u001b[0m\u001b[0mimshow\u001b[0m\u001b[0;34m(\u001b[0m\u001b[0mLL\u001b[0m\u001b[0;34m,\u001b[0m \u001b[0mcmap\u001b[0m \u001b[0;34m=\u001b[0m \u001b[0;34m'gray'\u001b[0m\u001b[0;34m)\u001b[0m\u001b[0;34m\u001b[0m\u001b[0;34m\u001b[0m\u001b[0m\n\u001b[0m\u001b[1;32m      4\u001b[0m \u001b[0max1\u001b[0m\u001b[0;34m.\u001b[0m\u001b[0mset_title\u001b[0m\u001b[0;34m(\u001b[0m\u001b[0;34m'LL'\u001b[0m\u001b[0;34m)\u001b[0m\u001b[0;34m\u001b[0m\u001b[0;34m\u001b[0m\u001b[0m\n\u001b[1;32m      5\u001b[0m \u001b[0max2\u001b[0m \u001b[0;34m=\u001b[0m \u001b[0mfig\u001b[0m\u001b[0;34m.\u001b[0m\u001b[0madd_subplot\u001b[0m\u001b[0;34m(\u001b[0m\u001b[0;36m222\u001b[0m\u001b[0;34m)\u001b[0m\u001b[0;34m\u001b[0m\u001b[0;34m\u001b[0m\u001b[0m\n",
      "\u001b[0;31mNameError\u001b[0m: name 'LL' is not defined"
     ]
    },
    {
     "data": {
      "image/png": "[encoded data removed]",
      "text/plain": [
       "<Figure size 720x720 with 1 Axes>"
      ]
     },
     "metadata": {
      "needs_background": "light"
     },
     "output_type": "display_data"
    }
   ],
   "source": [
    "fig = plt.figure(figsize = [10,10])\n",
    "ax1 = fig.add_subplot(221)\n",
    "ax1.imshow(LL, cmap = 'gray')\n",
    "ax1.set_title('LL')\n",
    "ax2 = fig.add_subplot(222)\n",
    "ax2.imshow(LH, cmap = 'gray')\n",
    "ax2.set_title('LH')\n",
    "ax3 = fig.add_subplot(223)\n",
    "ax3.imshow(HL, cmap = 'gray')\n",
    "ax3.set_title('HL')\n",
    "ax4 = fig.add_subplot(224)\n",
    "ax4.imshow(HH, cmap = 'gray')\n",
    "ax4.set_title('HH')"
   ]
  },
  {
   "cell_type": "markdown",
   "metadata": {},
   "source": [
    "1. Write a function that does this - Done!\n",
    "2. Create 4 datasets\n",
    "3. Train 4 networks"
   ]
  },
  {
   "cell_type": "markdown",
   "metadata": {},
   "source": [
    "Step 2:\n",
    "\n",
    "We need to:\n",
    "\n",
    "1. Load image from path normal/p1  \n",
    "2. Preprocess image\n",
    "3. Save it in LL/p1, LH/p1, HL/p1, and HH/p1"
   ]
  },
  {
   "cell_type": "markdown",
   "metadata": {},
   "source": [
    "1. Use os.mkdir for one image - Done!\n",
    "2. Do it for every mode. - Done!\n",
    "3. Do it for every image. - Pending!"
   ]
  },
  {
   "cell_type": "markdown",
   "metadata": {},
   "source": [
    "#### Tasks for 11/28\n",
    "1. solve np shape error\n",
    "2. do it for every image"
   ]
  },
  {
   "cell_type": "markdown",
   "metadata": {},
   "source": [
    "We decided not to do the wavelet transform for labels, because what's the point."
   ]
  },
  {
   "cell_type": "markdown",
   "metadata": {},
   "source": [
    "#### Dec 7 Meeting"
   ]
  },
  {
   "cell_type": "markdown",
   "metadata": {},
   "source": [
    "1. calculate loss for 1 image  \n",
    "    a. outputs of all neural networks  \n",
    "    b. Perform IDWT and combine them into final image  \n",
    "    c. Use weighted_cross_entropy_loss to calculate loss.  \n",
    "\n",
    "2. Then worry about backpropagation"
   ]
  },
  {
   "cell_type": "markdown",
   "metadata": {},
   "source": []
  }
 ],
 "metadata": {
  "kernelspec": {
   "display_name": "Python 3",
   "language": "python",
   "name": "python3"
  },
  "language_info": {
   "codemirror_mode": {
    "name": "ipython",
    "version": 3
   },
   "file_extension": ".py",
   "mimetype": "text/x-python",
   "name": "python",
   "nbconvert_exporter": "python",
   "pygments_lexer": "ipython3",
   "version": "3.7.6"
  }
 },
 "nbformat": 4,
 "nbformat_minor": 4
}
