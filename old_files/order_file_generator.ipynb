{
 "cells": [
  {
   "cell_type": "code",
   "execution_count": 1,
   "metadata": {},
   "outputs": [],
   "source": [
    "import os\n",
    "import sys\n",
    "import torch\n",
    "import argparse\n",
    "import torchvision\n",
    "import numpy as np\n",
    "import torch.nn as nn\n",
    "import scipy.io as sio\n",
    "import cv2\n",
    "import pywt\n",
    "import pywt.data\n",
    "import matplotlib.image as image\n",
    "\n",
    "from PIL import Image\n",
    "from tqdm import tqdm\n",
    "from datetime import datetime\n",
    "from collections import defaultdict\n",
    "from torch.optim import lr_scheduler\n",
    "from torch.utils.data import DataLoader\n",
    "from os.path import join, isdir, abspath, dirname\n",
    "import matplotlib.pyplot as plt\n",
    "# Customized import.\n",
    "from networks import HED\n",
    "from datasets import BsdsDataset\n",
    "from utils import Logger, AverageMeter, \\\n",
    "    load_checkpoint, save_checkpoint, load_vgg16_caffe, load_pretrained_caffe"
   ]
  },
  {
   "cell_type": "code",
   "execution_count": 2,
   "metadata": {},
   "outputs": [],
   "source": [
    "list_path = './data/HED-BSDS/train_pair.lst'"
   ]
  },
  {
   "cell_type": "code",
   "execution_count": 3,
   "metadata": {},
   "outputs": [],
   "source": [
    "with open(list_path, 'r') as f:\n",
    "    lines = f.readlines()\n",
    "lines = [line.strip() for line in lines]  # Remove the newline at last.\n",
    "pairs = [line.split() for line in lines]\n",
    "images_path = [pair[0] for pair in pairs]\n",
    "edges_path  = [pair[1] for pair in pairs]"
   ]
  },
  {
   "cell_type": "code",
   "execution_count": 4,
   "metadata": {},
   "outputs": [],
   "source": [
    "images_path_LL = []\n",
    "images_path_LH = []\n",
    "images_path_HL = []\n",
    "images_path_HH = []\n",
    "\n",
    "\n",
    "for i in images_path:\n",
    "    \n",
    "    i_LL = 'LL/' + i\n",
    "    i_LH = 'LH/' + i\n",
    "    i_HL = 'HL/' + i\n",
    "    i_HH = 'HH/' + i\n",
    "\n",
    "    images_path_LL.append(i_LL)\n",
    "    images_path_LH.append(i_LH)\n",
    "    images_path_HL.append(i_HL)\n",
    "    images_path_HH.append(i_HH)\n",
    "    \n",
    "edges_path_LL = []\n",
    "edges_path_LH = []\n",
    "edges_path_HL = []\n",
    "edges_path_HH = []\n",
    "\n",
    "\n",
    "for i in edges_path:\n",
    "    \n",
    "    i_LL = 'LL/' + i\n",
    "    i_LH = 'LH/' + i\n",
    "    i_HL = 'HL/' + i\n",
    "    i_HH = 'HH/' + i\n",
    "\n",
    "    edges_path_LL.append(i_LL)\n",
    "    edges_path_LH.append(i_LH)\n",
    "    edges_path_HL.append(i_HL)\n",
    "    edges_path_HH.append(i_HH)"
   ]
  },
  {
   "cell_type": "code",
   "execution_count": 7,
   "metadata": {},
   "outputs": [],
   "source": [
    "LL_list_path = list_path[:list_path.rfind('/')+1] + 'LL/' + list_path[list_path.rfind('/')+1:]\n",
    "LH_list_path = list_path[:list_path.rfind('/')+1] + 'LH/' + list_path[list_path.rfind('/')+1:]\n",
    "HL_list_path = list_path[:list_path.rfind('/')+1] + 'HL/' + list_path[list_path.rfind('/')+1:]\n",
    "HH_list_path = list_path[:list_path.rfind('/')+1] + 'HH/' + list_path[list_path.rfind('/')+1:]\n",
    "\n",
    "\n",
    "with open(LL_list_path, 'w') as f:\n",
    "    for i in range(len(images_path_LL)):\n",
    "#         print(images_path_LL[i] + ' ' + edges_path_LL[i] + '\\n')\n",
    "        f.write(images_path_LL[i] + ' ' + edges_path_LL[i] + '\\n')"
   ]
  },
  {
   "cell_type": "code",
   "execution_count": 9,
   "metadata": {},
   "outputs": [],
   "source": [
    "\n",
    "with open(LH_list_path, 'w') as f:\n",
    "    for i in range(len(images_path_LH)):\n",
    "        f.write(images_path_LH[i] + ' ' + edges_path_LH[i] + '\\n')\n",
    "\n",
    "with open(HL_list_path, 'w') as f:\n",
    "    for i in range(len(images_path_HL)):\n",
    "        f.write(images_path_HL[i] + ' ' + edges_path_HL[i] + '\\n')\n",
    "\n",
    "with open(HH_list_path, 'w') as f:\n",
    "    for i in range(len(images_path_HH)):\n",
    "        f.write(images_path_HH[i] + ' ' + edges_path_HH[i] + '\\n')"
   ]
  },
  {
   "cell_type": "markdown",
   "metadata": {},
   "source": [
    "#### Test database images"
   ]
  },
  {
   "cell_type": "code",
   "execution_count": null,
   "metadata": {},
   "outputs": [],
   "source": []
  }
 ],
 "metadata": {
  "kernelspec": {
   "display_name": "Python 3",
   "language": "python",
   "name": "python3"
  },
  "language_info": {
   "codemirror_mode": {
    "name": "ipython",
    "version": 3
   },
   "file_extension": ".py",
   "mimetype": "text/x-python",
   "name": "python",
   "nbconvert_exporter": "python",
   "pygments_lexer": "ipython3",
   "version": "3.7.6"
  }
 },
 "nbformat": 4,
 "nbformat_minor": 4
}
