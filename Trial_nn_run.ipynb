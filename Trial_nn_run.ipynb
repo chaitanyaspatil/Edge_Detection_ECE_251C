{
 "cells": [
  {
   "cell_type": "markdown",
   "metadata": {},
   "source": [
    "References:\n",
    "\n",
    "1. https://pytorch.org/tutorials/beginner/blitz/cifar10_tutorial.html#sphx-glr-beginner-blitz-cifar10-tutorial-py\n",
    "2. https://pywavelets.readthedocs.io/en/latest/"
   ]
  },
  {
   "cell_type": "code",
   "execution_count": 1,
   "metadata": {},
   "outputs": [],
   "source": [
    "import os\n",
    "import sys\n",
    "import torch\n",
    "import argparse\n",
    "import torchvision\n",
    "import numpy as np\n",
    "import torch.nn as nn\n",
    "import scipy.io as sio\n",
    "import cv2\n",
    "import pywt\n",
    "import pywt.data\n",
    "import matplotlib.image as image\n",
    "\n",
    "from PIL import Image\n",
    "from tqdm import tqdm\n",
    "from datetime import datetime\n",
    "from collections import defaultdict\n",
    "from torch.optim import lr_scheduler\n",
    "from torch.utils.data import DataLoader\n",
    "from os.path import join, isdir, abspath, dirname\n",
    "import matplotlib.pyplot as plt\n",
    "# Customized import.\n",
    "from networks import HED\n",
    "from datasets import BsdsDataset\n",
    "from utils import Logger, AverageMeter, \\\n",
    "    load_checkpoint, save_checkpoint, load_vgg16_caffe, load_pretrained_caffe\n",
    "\n",
    "\n",
    "# # Parse arguments.\n",
    "# parser = argparse.ArgumentParser(description='HED training.')\n",
    "# # 1. Actions.\n",
    "# parser.add_argument('--test',             default=False,             help='Only test the model.', action='store_true')\n",
    "# # 2. Counts.\n",
    "# parser.add_argument('--train_batch_size', default=1,    type=int,   metavar='N', help='Training batch size.')\n",
    "# parser.add_argument('--test_batch_size',  default=1,    type=int,   metavar='N', help='Test batch size.')\n",
    "# parser.add_argument('--train_iter_size',  default=10,   type=int,   metavar='N', help='Training iteration size.')\n",
    "# parser.add_argument('--max_epoch',        default=40,   type=int,   metavar='N', help='Total epochs.')\n",
    "# parser.add_argument('--print_freq',       default=500,  type=int,   metavar='N', help='Print frequency.')\n",
    "# # 3. Optimizer settings.\n",
    "# parser.add_argument('--lr',               default=1e-6, type=float, metavar='F', help='Initial learning rate.')\n",
    "# parser.add_argument('--lr_stepsize',      default=1e4,  type=int,   metavar='N', help='Learning rate step size.')\n",
    "# # Note: Step size is based on number of iterations, not number of batches.\n",
    "# #   https://github.com/s9xie/hed/blob/94fb22f10cbfec8d84fbc0642b224022014b6bd6/src/caffe/solver.cpp#L498\n",
    "# parser.add_argument('--lr_gamma',         default=0.1,  type=float, metavar='F', help='Learning rate decay (gamma).')\n",
    "# parser.add_argument('--momentum',         default=0.9,  type=float, metavar='F', help='Momentum.')\n",
    "# parser.add_argument('--weight_decay',     default=2e-4, type=float, metavar='F', help='Weight decay.')\n",
    "# # 4. Files and folders.\n",
    "# parser.add_argument('--vgg16_caffe',      default='',                help='Resume VGG-16 Caffe parameters.')\n",
    "# parser.add_argument('--checkpoint',       default='',                help='Resume the checkpoint.')\n",
    "# parser.add_argument('--caffe_model',      default='',                help='Resume HED Caffe model.')\n",
    "# parser.add_argument('--output',           default='./output',        help='Output folder.')\n",
    "# parser.add_argument('--dataset',          default='./data/HED-BSDS', help='HED-BSDS dataset folder.')\n",
    "# # 5. Others.\n",
    "# parser.add_argument('--cpu',              default=False,             help='Enable CPU mode.', action='store_true')\n",
    "# args = parser.parse_args()\n",
    "\n",
    "# Set device.\n",
    "device = torch.device('cpu')\n"
   ]
  },
  {
   "cell_type": "code",
   "execution_count": 33,
   "metadata": {},
   "outputs": [],
   "source": [
    "def wav_trans_grayscale(images):\n",
    "    images = torchvision.utils.make_grid(images)\n",
    "    npimg = images.numpy()\n",
    "    img_np_right_dim = np.transpose(npimg, (1, 2, 0))\n",
    "    img_np_right_dim = cv2.cvtColor(img_np_right_dim, cv2.COLOR_BGR2GRAY)\n",
    "    coeffs2 = pywt.dwt2(img_np_right_dim, 'haar')\n",
    "    LL, (LH, HL, HH) = coeffs2\n",
    "    return([LL, LH, HL, HH])\n",
    "\n",
    "\n",
    "\n",
    "def wav_trans(images):\n",
    "    # convert to numpy\n",
    "    images = images.numpy() # making images an nchw numpy array\n",
    "    images = images[0,0,:,:] # making images an hw numpy array\n",
    "    coeffs2 = pywt.dwt2(images, 'haar')\n",
    "    LL, (LH, HL, HH) = coeffs2\n",
    "\n",
    "    # LL is an hw numpy array\n",
    "\n",
    "    # convert LL into a torch tensor of NCHW\n",
    "    \n",
    "    LL[LL>255.0] = 255.0\n",
    "    height = LL.shape[0]\n",
    "    width = LL.shape[1]\n",
    "    LL = torch.from_numpy(LL)\n",
    "    LL = torch.reshape(LL,(1, 1, height, width))\n",
    "    \n",
    "    return(LL)\n",
    "\n",
    "\n",
    "def WT_grayscale_path_input(path):  \n",
    "    \"\"\"Takes as input path string\"\"\"\n",
    "    orig_image = plt.imread(path)\n",
    "    if(len(orig_image.shape)==3):\n",
    "        gray_image = cv2.cvtColor(orig_image, cv2.COLOR_BGR2GRAY)\n",
    "    else:\n",
    "        gray_image = orig_image\n",
    "    coeffs2 = pywt.dwt2(gray_image, 'haar')\n",
    "    LL, (LH, HL, HH) = coeffs2\n",
    "    return [LL, LH, HL, HH]\n",
    "\n",
    "def im_save_path_modifier(input_path, mode):\n",
    "    \"\"\"\n",
    "    parameter: input_path is the path of the original image\n",
    "    parameter: mode is one of LL, LH, HL, HH\n",
    "    \"\"\"\n",
    "    dir_path = input_path[:16] + f'{mode}/' + input_path[16:input_path.rfind('/')]\n",
    "    image_path = input_path[:16] + f'{mode}/' + input_path[16:]\n",
    "    return(dir_path, image_path)\n",
    "\n",
    "def imshow(img):\n",
    "#     img = img / 2 + 0.5     # unnormalize\n",
    "    npimg = img.numpy()\n",
    "    plt.imshow(np.transpose(npimg, (1, 2, 0)))\n",
    "    plt.show()"
   ]
  },
  {
   "cell_type": "code",
   "execution_count": 18,
   "metadata": {},
   "outputs": [],
   "source": [
    "# current_dir = abspath(dirname(__file__))\n",
    "# output_dir = join(current_dir, args.output)\n",
    "# if not isdir(output_dir):\n",
    "#     os.makedirs(output_dir)\n",
    "\n",
    "# # Set logger.\n",
    "# now_str = datetime.now().strftime('%y%m%d-%H%M%S')\n",
    "# log = Logger(join(output_dir, 'log-{}.txt'.format(now_str)))\n",
    "# sys.stdout = log  # Overwrite the standard output.\n",
    "\n",
    "################################################\n",
    "# II. Datasets.\n",
    "################################################\n",
    "# Datasets and dataloaders.\n",
    "train_dataset = BsdsDataset(dataset_dir='./data/HED-BSDS/LL', split='train')\n",
    "test_dataset  = BsdsDataset(dataset_dir='./data/HED-BSDS/LL', split='test')\n",
    "train_loader  = DataLoader(train_dataset, batch_size=1,\n",
    "                           num_workers=4, drop_last=True, shuffle=True)\n",
    "test_loader   = DataLoader(test_dataset,  batch_size=1,\n",
    "                           num_workers=4, drop_last=False, shuffle=False)\n",
    "\n"
   ]
  },
  {
   "cell_type": "code",
   "execution_count": 34,
   "metadata": {},
   "outputs": [],
   "source": [
    "dataiter = iter(train_loader)"
   ]
  },
  {
   "cell_type": "code",
   "execution_count": 47,
   "metadata": {},
   "outputs": [
    {
     "name": "stdout",
     "output_type": "stream",
     "text": [
      "torch.Size([1, 1, 209, 503])\n"
     ]
    }
   ],
   "source": [
    "images, labels = dataiter.next()\n",
    "print(labels.shape)"
   ]
  },
  {
   "cell_type": "code",
   "execution_count": 48,
   "metadata": {},
   "outputs": [],
   "source": [
    "mask = (labels > 0.5).float()"
   ]
  },
  {
   "cell_type": "code",
   "execution_count": 49,
   "metadata": {},
   "outputs": [
    {
     "data": {
      "text/plain": [
       "torch.Size([1, 1, 209, 503])"
      ]
     },
     "execution_count": 49,
     "metadata": {},
     "output_type": "execute_result"
    }
   ],
   "source": [
    "mask.shape"
   ]
  },
  {
   "cell_type": "code",
   "execution_count": 50,
   "metadata": {},
   "outputs": [
    {
     "data": {
      "text/plain": [
       "(array([[193.,   6.,   5., ...,   0.,   0.,   0.],\n",
       "        [191.,   7.,   4., ...,   0.,   0.,   0.],\n",
       "        [191.,   7.,   4., ...,   0.,   0.,   0.],\n",
       "        ...,\n",
       "        [209.,   0.,   0., ...,   0.,   0.,   0.],\n",
       "        [209.,   0.,   0., ...,   0.,   0.,   0.],\n",
       "        [209.,   0.,   0., ...,   0.,   0.,   0.]]),\n",
       " array([  0. ,  25.5,  51. ,  76.5, 102. , 127.5, 153. , 178.5, 204. ,\n",
       "        229.5, 255. ]),\n",
       " <a list of 503 Lists of Patches objects>)"
      ]
     },
     "execution_count": 50,
     "metadata": {},
     "output_type": "execute_result"
    },
    {
     "data": {
      "image/png": "[encoded data removed]",
      "text/plain": [
       "<Figure size 432x288 with 1 Axes>"
      ]
     },
     "metadata": {
      "needs_background": "light"
     },
     "output_type": "display_data"
    }
   ],
   "source": [
    "labels_4_hist = labels[0,0,:,:].numpy()\n",
    "plt.hist(labels_4_hist)"
   ]
  },
  {
   "cell_type": "code",
   "execution_count": 51,
   "metadata": {},
   "outputs": [
    {
     "data": {
      "image/png": "[encoded data removed]",
      "text/plain": [
       "<Figure size 432x288 with 1 Axes>"
      ]
     },
     "metadata": {
      "needs_background": "light"
     },
     "output_type": "display_data"
    }
   ],
   "source": [
    "mask_4_hist = mask[0,0,:,:].numpy()\n",
    "plt.hist(mask_4_hist);"
   ]
  },
  {
   "cell_type": "code",
   "execution_count": 52,
   "metadata": {},
   "outputs": [],
   "source": [
    "wt_labels = wav_trans(labels)"
   ]
  },
  {
   "cell_type": "code",
   "execution_count": 53,
   "metadata": {},
   "outputs": [
    {
     "data": {
      "text/plain": [
       "(array([[ 92.,   4.,   1., ...,   1.,   1.,   0.],\n",
       "        [ 93.,   1.,   3., ...,   0.,   1.,   0.],\n",
       "        [ 93.,   6.,   0., ...,   0.,   1.,   1.],\n",
       "        ...,\n",
       "        [105.,   0.,   0., ...,   0.,   0.,   0.],\n",
       "        [105.,   0.,   0., ...,   0.,   0.,   0.],\n",
       "        [105.,   0.,   0., ...,   0.,   0.,   0.]]),\n",
       " array([  0. ,  25.5,  51. ,  76.5, 102. , 127.5, 153. , 178.5, 204. ,\n",
       "        229.5, 255. ]),\n",
       " <a list of 252 Lists of Patches objects>)"
      ]
     },
     "execution_count": 53,
     "metadata": {},
     "output_type": "execute_result"
    },
    {
     "data": {
      "image/png": "[encoded data removed]",
      "text/plain": [
       "<Figure size 432x288 with 1 Axes>"
      ]
     },
     "metadata": {
      "needs_background": "light"
     },
     "output_type": "display_data"
    }
   ],
   "source": [
    "labels_wt_4_hist = wt_labels[0,0,:,:].numpy()\n",
    "plt.hist(labels_wt_4_hist)"
   ]
  },
  {
   "cell_type": "code",
   "execution_count": 54,
   "metadata": {},
   "outputs": [],
   "source": [
    "mask_wt = (wt_labels > 0.5).float()"
   ]
  },
  {
   "cell_type": "code",
   "execution_count": 56,
   "metadata": {},
   "outputs": [
    {
     "data": {
      "image/png": "[encoded data removed]",
      "text/plain": [
       "<Figure size 432x288 with 1 Axes>"
      ]
     },
     "metadata": {
      "needs_background": "light"
     },
     "output_type": "display_data"
    }
   ],
   "source": [
    "plt.hist(mask_wt[0,0,:,:].numpy());"
   ]
  },
  {
   "cell_type": "code",
   "execution_count": null,
   "metadata": {},
   "outputs": [],
   "source": [
    "plt.imshow(labels[0,0,:,:].numpy())"
   ]
  },
  {
   "cell_type": "code",
   "execution_count": null,
   "metadata": {},
   "outputs": [],
   "source": [
    "LL = wav_trans(labels)"
   ]
  },
  {
   "cell_type": "code",
   "execution_count": null,
   "metadata": {},
   "outputs": [],
   "source": [
    "height = LL.shape[0]\n",
    "width = LL.shape[1]\n",
    "LL = torch.from_numpy(LL)\n",
    "print(LL.shape)\n",
    "LL = torch.reshape(LL,(1, 1, height, width))\n",
    "print(LL.shape)"
   ]
  },
  {
   "cell_type": "code",
   "execution_count": null,
   "metadata": {},
   "outputs": [],
   "source": [
    "train_dataset.__len__()"
   ]
  },
  {
   "cell_type": "code",
   "execution_count": null,
   "metadata": {},
   "outputs": [],
   "source": [
    "images, labels, path, label_path = dataiter.next()\n",
    "\n",
    "wav_trans_imlist = WT_grayscale_path_input(path[0])\n",
    "wav_trans_imlist_names  = ['LL', 'LH', 'HL', 'HH']\n",
    "\n",
    "\n",
    "for i in range(len(wav_trans_imlist)):\n",
    "    \n",
    "    # saving image\n",
    "    \n",
    "    dir_path, image_path = im_save_path_modifier(path[0], str(wav_trans_imlist_names[i]))\n",
    "    os.makedirs(dir_path)\n",
    "    plt.imsave(image_path, wav_trans_imlist[i], cmap = 'gray')\n",
    "    \n",
    "    # saving label\n",
    "    # retrieve label image\n",
    "    im_label = plt.imread(label_path[0])\n",
    "    label_dir_path_new, label_path_new = im_save_path_modifier(label_path[0], str(wav_trans_imlist_names[i]))\n",
    "    os.makedirs(label_dir_path_new)\n",
    "    plt.imsave(label_path_new, im_label, cmap = 'gray')\n"
   ]
  },
  {
   "cell_type": "code",
   "execution_count": null,
   "metadata": {},
   "outputs": [],
   "source": [
    "sad_images = []\n",
    "sad_labels = []"
   ]
  },
  {
   "cell_type": "code",
   "execution_count": null,
   "metadata": {},
   "outputs": [],
   "source": [
    "for j, data in tqdm(enumerate(train_loader, 0)):\n",
    "    \n",
    "    images, path = data\n",
    "    \n",
    "    print(path[0])\n",
    "\n",
    "    wav_trans_imlist = WT_grayscale_path_input(path[0])\n",
    "    wav_trans_imlist_names  = ['LL', 'LH', 'HL', 'HH']\n",
    "\n",
    "\n",
    "    for i in range(len(wav_trans_imlist)):\n",
    "\n",
    "        # saving image\n",
    "\n",
    "        dir_path, image_path = im_save_path_modifier(path[0], str(wav_trans_imlist_names[i]))\n",
    "        os.makedirs(dir_path, exist_ok=True)\n",
    "        plt.imsave(image_path, wav_trans_imlist[i], cmap = 'gray')\n",
    "\n",
    "        # saving label\n",
    "        # retrieve label image\n",
    "        im_label = plt.imread(label_path[0])\n",
    "        label_dir_path_new, label_path_new = im_save_path_modifier(label_path[0], str(wav_trans_imlist_names[i]))\n",
    "        os.makedirs(label_dir_path_new, exist_ok=True)\n",
    "        plt.imsave(label_path_new, im_label, cmap = 'gray')\n",
    "        \n",
    "    if(j%1000==0):\n",
    "        print(j)"
   ]
  },
  {
   "cell_type": "code",
   "execution_count": null,
   "metadata": {},
   "outputs": [],
   "source": [
    "len(sad_labels)"
   ]
  },
  {
   "cell_type": "markdown",
   "metadata": {},
   "source": [
    "Idea: Instead of taking image from the dataloader, we take the image path from it and get the image ourselves from the path. So we don't have to deal with torch tensors."
   ]
  },
  {
   "cell_type": "markdown",
   "metadata": {},
   "source": [
    "We should convert to numpy before saving images and labels."
   ]
  },
  {
   "cell_type": "code",
   "execution_count": null,
   "metadata": {
    "scrolled": false
   },
   "outputs": [],
   "source": [
    "imshow(torchvision.utils.make_grid(images))"
   ]
  },
  {
   "cell_type": "markdown",
   "metadata": {},
   "source": [
    "Preprocessing:  \n",
    "Option 1:\n",
    "\n",
    "1. Take wavelet transform of every channel\n",
    "2. Stack up RGB channels after performing wavelet transform\n",
    "3. Feed this to network.\n",
    "\n",
    "Option 2:\n",
    "\n",
    "1. Take grayscale of the input image\n",
    "2. Pass this to network.  \n",
    "Note: For option 2, we will have to change the first layer of the network to suit our changed dimensions of input."
   ]
  },
  {
   "cell_type": "code",
   "execution_count": null,
   "metadata": {},
   "outputs": [],
   "source": [
    "fig = plt.figure(figsize = [10,10])\n",
    "ax1 = fig.add_subplot(221)\n",
    "ax1.imshow(LL, cmap = 'gray')\n",
    "ax1.set_title('LL')\n",
    "ax2 = fig.add_subplot(222)\n",
    "ax2.imshow(LH, cmap = 'gray')\n",
    "ax2.set_title('LH')\n",
    "ax3 = fig.add_subplot(223)\n",
    "ax3.imshow(HL, cmap = 'gray')\n",
    "ax3.set_title('HL')\n",
    "ax4 = fig.add_subplot(224)\n",
    "ax4.imshow(HH, cmap = 'gray')\n",
    "ax4.set_title('HH')"
   ]
  },
  {
   "cell_type": "markdown",
   "metadata": {},
   "source": [
    "1. Write a function that does this - Done!\n",
    "2. Create 4 datasets\n",
    "3. Train 4 networks"
   ]
  },
  {
   "cell_type": "markdown",
   "metadata": {},
   "source": [
    "Step 2:\n",
    "\n",
    "We need to:\n",
    "\n",
    "1. Load image from path normal/p1  \n",
    "2. Preprocess image\n",
    "3. Save it in LL/p1, LH/p1, HL/p1, and HH/p1"
   ]
  },
  {
   "cell_type": "markdown",
   "metadata": {},
   "source": [
    "1. Use os.mkdir for one image - Done!\n",
    "2. Do it for every mode. - Done!\n",
    "3. Do it for every image. - Pending!"
   ]
  },
  {
   "cell_type": "markdown",
   "metadata": {},
   "source": [
    "#### Tasks for 11/28\n",
    "1. solve np shape error\n",
    "2. do it for every image"
   ]
  },
  {
   "cell_type": "markdown",
   "metadata": {},
   "source": [
    "We decided not to do the wavelet transform for labels, because what's the point."
   ]
  },
  {
   "cell_type": "markdown",
   "metadata": {},
   "source": [
    "#### Dec 7 Meeting"
   ]
  },
  {
   "cell_type": "markdown",
   "metadata": {},
   "source": [
    "1. calculate loss for 1 image  \n",
    "    a. outputs of all neural networks  \n",
    "    b. Perform IDWT and combine them into final image  \n",
    "    c. Use weighted_cross_entropy_loss to calculate loss.  \n",
    "\n",
    "2. Then worry about backpropagation"
   ]
  },
  {
   "cell_type": "markdown",
   "metadata": {},
   "source": []
  }
 ],
 "metadata": {
  "kernelspec": {
   "display_name": "Python 3",
   "language": "python",
   "name": "python3"
  },
  "language_info": {
   "codemirror_mode": {
    "name": "ipython",
    "version": 3
   },
   "file_extension": ".py",
   "mimetype": "text/x-python",
   "name": "python",
   "nbconvert_exporter": "python",
   "pygments_lexer": "ipython3",
   "version": "3.7.6"
  }
 },
 "nbformat": 4,
 "nbformat_minor": 4
}
