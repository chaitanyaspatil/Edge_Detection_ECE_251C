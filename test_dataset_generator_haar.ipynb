{
 "cells": [
  {
   "cell_type": "code",
   "execution_count": 6,
   "metadata": {},
   "outputs": [],
   "source": [
    "import os\n",
    "import sys\n",
    "import torch\n",
    "import argparse\n",
    "import torchvision\n",
    "import numpy as np\n",
    "import torch.nn as nn\n",
    "import scipy.io as sio\n",
    "import cv2\n",
    "import pywt\n",
    "import pywt.data\n",
    "import matplotlib.image as image\n",
    "\n",
    "from PIL import Image\n",
    "from tqdm import tqdm\n",
    "from datetime import datetime\n",
    "from collections import defaultdict\n",
    "from torch.optim import lr_scheduler\n",
    "from torch.utils.data import DataLoader\n",
    "from os.path import join, isdir, abspath, dirname\n",
    "import matplotlib.pyplot as plt\n",
    "# Customized import.\n",
    "from networks import HED\n",
    "from datasets import BsdsDataset\n",
    "from utils import Logger, AverageMeter, \\\n",
    "    load_checkpoint, save_checkpoint, load_vgg16_caffe, load_pretrained_caffe\n",
    "\n",
    "\n",
    "# # Parse arguments.\n",
    "# parser = argparse.ArgumentParser(description='HED training.')\n",
    "# # 1. Actions.\n",
    "# parser.add_argument('--test',             default=False,             help='Only test the model.', action='store_true')\n",
    "# # 2. Counts.\n",
    "# parser.add_argument('--train_batch_size', default=1,    type=int,   metavar='N', help='Training batch size.')\n",
    "# parser.add_argument('--test_batch_size',  default=1,    type=int,   metavar='N', help='Test batch size.')\n",
    "# parser.add_argument('--train_iter_size',  default=10,   type=int,   metavar='N', help='Training iteration size.')\n",
    "# parser.add_argument('--max_epoch',        default=40,   type=int,   metavar='N', help='Total epochs.')\n",
    "# parser.add_argument('--print_freq',       default=500,  type=int,   metavar='N', help='Print frequency.')\n",
    "# # 3. Optimizer settings.\n",
    "# parser.add_argument('--lr',               default=1e-6, type=float, metavar='F', help='Initial learning rate.')\n",
    "# parser.add_argument('--lr_stepsize',      default=1e4,  type=int,   metavar='N', help='Learning rate step size.')\n",
    "# # Note: Step size is based on number of iterations, not number of batches.\n",
    "# #   https://github.com/s9xie/hed/blob/94fb22f10cbfec8d84fbc0642b224022014b6bd6/src/caffe/solver.cpp#L498\n",
    "# parser.add_argument('--lr_gamma',         default=0.1,  type=float, metavar='F', help='Learning rate decay (gamma).')\n",
    "# parser.add_argument('--momentum',         default=0.9,  type=float, metavar='F', help='Momentum.')\n",
    "# parser.add_argument('--weight_decay',     default=2e-4, type=float, metavar='F', help='Weight decay.')\n",
    "# # 4. Files and folders.\n",
    "# parser.add_argument('--vgg16_caffe',      default='',                help='Resume VGG-16 Caffe parameters.')\n",
    "# parser.add_argument('--checkpoint',       default='',                help='Resume the checkpoint.')\n",
    "# parser.add_argument('--caffe_model',      default='',                help='Resume HED Caffe model.')\n",
    "# parser.add_argument('--output',           default='./output',        help='Output folder.')\n",
    "# parser.add_argument('--dataset',          default='./data/HED-BSDS', help='HED-BSDS dataset folder.')\n",
    "# # 5. Others.\n",
    "# parser.add_argument('--cpu',              default=False,             help='Enable CPU mode.', action='store_true')\n",
    "# args = parser.parse_args()\n",
    "\n",
    "# Set device.\n",
    "device = torch.device('cpu')\n"
   ]
  },
  {
   "cell_type": "code",
   "execution_count": 2,
   "metadata": {},
   "outputs": [],
   "source": [
    "def wav_trans_grayscale(images):\n",
    "    images = torchvision.utils.make_grid(images)\n",
    "    npimg = images.numpy()\n",
    "    img_np_right_dim = np.transpose(npimg, (1, 2, 0))\n",
    "    img_np_right_dim = cv2.cvtColor(img_np_right_dim, cv2.COLOR_BGR2GRAY)\n",
    "    coeffs2 = pywt.dwt2(img_np_right_dim, 'haar')\n",
    "    LL, (LH, HL, HH) = coeffs2\n",
    "    return([LL, LH, HL, HH])\n",
    "\n",
    "def WT_grayscale_path_input(path):  \n",
    "    \"\"\"Takes as input path string\"\"\"\n",
    "    orig_image = plt.imread(path)\n",
    "    if(len(orig_image.shape)==3):\n",
    "        gray_image = cv2.cvtColor(orig_image, cv2.COLOR_BGR2GRAY)\n",
    "    else:\n",
    "        gray_image = orig_image\n",
    "    coeffs2 = pywt.dwt2(gray_image, 'haar')\n",
    "    LL, (LH, HL, HH) = coeffs2\n",
    "    return [LL, LH, HL, HH]\n",
    "\n",
    "def im_save_path_modifier(input_path, mode):\n",
    "    \"\"\"\n",
    "    parameter: input_path is the path of the original image\n",
    "    parameter: mode is one of LL, LH, HL, HH\n",
    "    \"\"\"\n",
    "    dir_path = input_path[:16] + f'{mode}/' + input_path[16:input_path.rfind('/')]\n",
    "    image_path = input_path[:16] + f'{mode}/' + input_path[16:]\n",
    "    return(dir_path, image_path)\n",
    "\n",
    "def imshow(img):\n",
    "#     img = img / 2 + 0.5     # unnormalize\n",
    "    npimg = img.numpy()\n",
    "    plt.imshow(np.transpose(npimg, (1, 2, 0)))\n",
    "    plt.show()"
   ]
  },
  {
   "cell_type": "code",
   "execution_count": 3,
   "metadata": {},
   "outputs": [],
   "source": [
    "# current_dir = abspath(dirname(__file__))\n",
    "# output_dir = join(current_dir, args.output)\n",
    "# if not isdir(output_dir):\n",
    "#     os.makedirs(output_dir)\n",
    "\n",
    "# # Set logger.\n",
    "# now_str = datetime.now().strftime('%y%m%d-%H%M%S')\n",
    "# log = Logger(join(output_dir, 'log-{}.txt'.format(now_str)))\n",
    "# sys.stdout = log  # Overwrite the standard output.\n",
    "\n",
    "################################################\n",
    "# II. Datasets.\n",
    "################################################\n",
    "# Datasets and dataloaders.\n",
    "train_dataset = BsdsDataset(dataset_dir='./data/HED-BSDS', split='train')\n",
    "test_dataset  = BsdsDataset(dataset_dir='./data/HED-BSDS', split='test')\n",
    "train_loader  = DataLoader(train_dataset, batch_size=1,\n",
    "                           num_workers=4, drop_last=True, shuffle=True)\n",
    "test_loader   = DataLoader(test_dataset,  batch_size=1,\n",
    "                           num_workers=4, drop_last=False, shuffle=False)\n",
    "\n"
   ]
  },
  {
   "cell_type": "code",
   "execution_count": 4,
   "metadata": {},
   "outputs": [],
   "source": [
    "dataiter = iter(test_loader)"
   ]
  },
  {
   "cell_type": "code",
   "execution_count": 5,
   "metadata": {},
   "outputs": [
    {
     "data": {
      "text/plain": [
       "200"
      ]
     },
     "execution_count": 5,
     "metadata": {},
     "output_type": "execute_result"
    }
   ],
   "source": [
    "test_dataset.__len__()"
   ]
  },
  {
   "cell_type": "code",
   "execution_count": 11,
   "metadata": {
    "scrolled": false
   },
   "outputs": [
    {
     "name": "stderr",
     "output_type": "stream",
     "text": [
      "2it [00:00, 14.33it/s]"
     ]
    },
    {
     "name": "stdout",
     "output_type": "stream",
     "text": [
      "./data/HED-BSDS/test/100007.jpg\n",
      "0\n",
      "./data/HED-BSDS/test/100039.jpg\n",
      "./data/HED-BSDS/test/100099.jpg\n",
      "./data/HED-BSDS/test/10081.jpg\n"
     ]
    },
    {
     "name": "stderr",
     "output_type": "stream",
     "text": [
      "7it [00:00, 16.48it/s]"
     ]
    },
    {
     "name": "stdout",
     "output_type": "stream",
     "text": [
      "./data/HED-BSDS/test/101027.jpg\n",
      "./data/HED-BSDS/test/101084.jpg\n",
      "./data/HED-BSDS/test/102062.jpg\n",
      "./data/HED-BSDS/test/103006.jpg\n"
     ]
    },
    {
     "name": "stderr",
     "output_type": "stream",
     "text": [
      "\r",
      "10it [00:00, 18.09it/s]"
     ]
    },
    {
     "name": "stdout",
     "output_type": "stream",
     "text": [
      "./data/HED-BSDS/test/103029.jpg\n",
      "./data/HED-BSDS/test/103078.jpg\n",
      "./data/HED-BSDS/test/104010.jpg\n",
      "./data/HED-BSDS/test/104055.jpg\n",
      "./data/HED-BSDS/test/105027.jpg\n"
     ]
    },
    {
     "name": "stderr",
     "output_type": "stream",
     "text": [
      "16it [00:00, 20.50it/s]"
     ]
    },
    {
     "name": "stdout",
     "output_type": "stream",
     "text": [
      "./data/HED-BSDS/test/106005.jpg\n",
      "./data/HED-BSDS/test/106047.jpg\n",
      "./data/HED-BSDS/test/107014.jpg\n",
      "./data/HED-BSDS/test/107045.jpg\n",
      "./data/HED-BSDS/test/107072.jpg\n"
     ]
    },
    {
     "name": "stderr",
     "output_type": "stream",
     "text": [
      "22it [00:01, 20.38it/s]"
     ]
    },
    {
     "name": "stdout",
     "output_type": "stream",
     "text": [
      "./data/HED-BSDS/test/108004.jpg\n",
      "./data/HED-BSDS/test/108036.jpg\n",
      "./data/HED-BSDS/test/108069.jpg\n",
      "./data/HED-BSDS/test/109055.jpg\n",
      "./data/HED-BSDS/test/112056.jpg\n"
     ]
    },
    {
     "name": "stderr",
     "output_type": "stream",
     "text": [
      "\r",
      "25it [00:01, 21.26it/s]"
     ]
    },
    {
     "name": "stdout",
     "output_type": "stream",
     "text": [
      "./data/HED-BSDS/test/112090.jpg\n",
      "./data/HED-BSDS/test/117025.jpg\n",
      "./data/HED-BSDS/test/118015.jpg\n",
      "./data/HED-BSDS/test/118031.jpg\n",
      "./data/HED-BSDS/test/118072.jpg\n"
     ]
    },
    {
     "name": "stderr",
     "output_type": "stream",
     "text": [
      "31it [00:01, 21.40it/s]"
     ]
    },
    {
     "name": "stdout",
     "output_type": "stream",
     "text": [
      "./data/HED-BSDS/test/120003.jpg\n",
      "./data/HED-BSDS/test/120093.jpg\n",
      "./data/HED-BSDS/test/123057.jpg\n",
      "./data/HED-BSDS/test/128035.jpg\n",
      "./data/HED-BSDS/test/130014.jpg\n"
     ]
    },
    {
     "name": "stderr",
     "output_type": "stream",
     "text": [
      "37it [00:01, 21.00it/s]"
     ]
    },
    {
     "name": "stdout",
     "output_type": "stream",
     "text": [
      "./data/HED-BSDS/test/130066.jpg\n",
      "./data/HED-BSDS/test/134049.jpg\n",
      "./data/HED-BSDS/test/134067.jpg\n",
      "./data/HED-BSDS/test/140006.jpg\n",
      "./data/HED-BSDS/test/140088.jpg\n"
     ]
    },
    {
     "name": "stderr",
     "output_type": "stream",
     "text": [
      "\r",
      "40it [00:01, 20.79it/s]"
     ]
    },
    {
     "name": "stdout",
     "output_type": "stream",
     "text": [
      "./data/HED-BSDS/test/14085.jpg\n",
      "./data/HED-BSDS/test/14092.jpg\n",
      "./data/HED-BSDS/test/141012.jpg\n",
      "./data/HED-BSDS/test/141048.jpg\n"
     ]
    },
    {
     "name": "stderr",
     "output_type": "stream",
     "text": [
      "46it [00:02, 20.79it/s]"
     ]
    },
    {
     "name": "stdout",
     "output_type": "stream",
     "text": [
      "./data/HED-BSDS/test/145059.jpg\n",
      "./data/HED-BSDS/test/145079.jpg\n",
      "./data/HED-BSDS/test/146074.jpg\n",
      "./data/HED-BSDS/test/147077.jpg\n",
      "./data/HED-BSDS/test/147080.jpg\n"
     ]
    },
    {
     "name": "stderr",
     "output_type": "stream",
     "text": [
      "52it [00:02, 23.29it/s]"
     ]
    },
    {
     "name": "stdout",
     "output_type": "stream",
     "text": [
      "./data/HED-BSDS/test/15011.jpg\n",
      "./data/HED-BSDS/test/15062.jpg\n",
      "./data/HED-BSDS/test/156054.jpg\n",
      "./data/HED-BSDS/test/157032.jpg\n",
      "./data/HED-BSDS/test/157087.jpg\n",
      "./data/HED-BSDS/test/159002.jpg\n"
     ]
    },
    {
     "name": "stderr",
     "output_type": "stream",
     "text": [
      "58it [00:02, 25.56it/s]"
     ]
    },
    {
     "name": "stdout",
     "output_type": "stream",
     "text": [
      "./data/HED-BSDS/test/159022.jpg\n",
      "./data/HED-BSDS/test/160006.jpg\n",
      "./data/HED-BSDS/test/16004.jpg\n",
      "./data/HED-BSDS/test/160067.jpg\n",
      "./data/HED-BSDS/test/16068.jpg\n",
      "./data/HED-BSDS/test/161045.jpg\n"
     ]
    },
    {
     "name": "stderr",
     "output_type": "stream",
     "text": [
      "64it [00:02, 26.52it/s]"
     ]
    },
    {
     "name": "stdout",
     "output_type": "stream",
     "text": [
      "./data/HED-BSDS/test/163004.jpg\n",
      "./data/HED-BSDS/test/163096.jpg\n",
      "./data/HED-BSDS/test/164046.jpg\n",
      "./data/HED-BSDS/test/168084.jpg\n",
      "./data/HED-BSDS/test/17067.jpg\n",
      "./data/HED-BSDS/test/175083.jpg\n"
     ]
    },
    {
     "name": "stderr",
     "output_type": "stream",
     "text": [
      "70it [00:03, 27.39it/s]"
     ]
    },
    {
     "name": "stdout",
     "output_type": "stream",
     "text": [
      "./data/HED-BSDS/test/176051.jpg\n",
      "./data/HED-BSDS/test/179084.jpg\n",
      "./data/HED-BSDS/test/181021.jpg\n",
      "./data/HED-BSDS/test/183066.jpg\n",
      "./data/HED-BSDS/test/185092.jpg\n",
      "./data/HED-BSDS/test/187058.jpg\n"
     ]
    },
    {
     "name": "stderr",
     "output_type": "stream",
     "text": [
      "\r",
      "73it [00:03, 25.78it/s]"
     ]
    },
    {
     "name": "stdout",
     "output_type": "stream",
     "text": [
      "./data/HED-BSDS/test/187099.jpg\n",
      "./data/HED-BSDS/test/188025.jpg\n",
      "./data/HED-BSDS/test/189006.jpg\n",
      "./data/HED-BSDS/test/189013.jpg\n",
      "./data/HED-BSDS/test/189029.jpg\n"
     ]
    },
    {
     "name": "stderr",
     "output_type": "stream",
     "text": [
      "79it [00:03, 24.53it/s]"
     ]
    },
    {
     "name": "stdout",
     "output_type": "stream",
     "text": [
      "./data/HED-BSDS/test/189096.jpg\n",
      "./data/HED-BSDS/test/196027.jpg\n",
      "./data/HED-BSDS/test/196040.jpg\n",
      "./data/HED-BSDS/test/196062.jpg\n",
      "./data/HED-BSDS/test/196088.jpg\n"
     ]
    },
    {
     "name": "stderr",
     "output_type": "stream",
     "text": [
      "85it [00:03, 24.89it/s]"
     ]
    },
    {
     "name": "stdout",
     "output_type": "stream",
     "text": [
      "./data/HED-BSDS/test/198087.jpg\n",
      "./data/HED-BSDS/test/20069.jpg\n",
      "./data/HED-BSDS/test/201080.jpg\n",
      "./data/HED-BSDS/test/2018.jpg\n",
      "./data/HED-BSDS/test/202000.jpg\n",
      "./data/HED-BSDS/test/206062.jpg\n"
     ]
    },
    {
     "name": "stderr",
     "output_type": "stream",
     "text": [
      "91it [00:03, 24.37it/s]"
     ]
    },
    {
     "name": "stdout",
     "output_type": "stream",
     "text": [
      "./data/HED-BSDS/test/206097.jpg\n",
      "./data/HED-BSDS/test/207038.jpg\n",
      "./data/HED-BSDS/test/207049.jpg\n",
      "./data/HED-BSDS/test/208078.jpg\n",
      "./data/HED-BSDS/test/209021.jpg\n"
     ]
    },
    {
     "name": "stderr",
     "output_type": "stream",
     "text": [
      "97it [00:04, 24.24it/s]"
     ]
    },
    {
     "name": "stdout",
     "output_type": "stream",
     "text": [
      "./data/HED-BSDS/test/217013.jpg\n",
      "./data/HED-BSDS/test/217090.jpg\n",
      "./data/HED-BSDS/test/220003.jpg\n",
      "./data/HED-BSDS/test/223004.jpg\n",
      "./data/HED-BSDS/test/223060.jpg\n"
     ]
    },
    {
     "name": "stderr",
     "output_type": "stream",
     "text": [
      "\r",
      "100it [00:04, 23.46it/s]"
     ]
    },
    {
     "name": "stdout",
     "output_type": "stream",
     "text": [
      "./data/HED-BSDS/test/225022.jpg\n",
      "./data/HED-BSDS/test/226022.jpg\n",
      "./data/HED-BSDS/test/226033.jpg\n",
      "./data/HED-BSDS/test/226043.jpg\n",
      "100\n",
      "./data/HED-BSDS/test/226060.jpg\n"
     ]
    },
    {
     "name": "stderr",
     "output_type": "stream",
     "text": [
      "106it [00:04, 22.83it/s]"
     ]
    },
    {
     "name": "stdout",
     "output_type": "stream",
     "text": [
      "./data/HED-BSDS/test/228076.jpg\n",
      "./data/HED-BSDS/test/230063.jpg\n",
      "./data/HED-BSDS/test/230098.jpg\n",
      "./data/HED-BSDS/test/23050.jpg\n",
      "./data/HED-BSDS/test/232076.jpg\n"
     ]
    },
    {
     "name": "stderr",
     "output_type": "stream",
     "text": [
      "112it [00:04, 23.84it/s]"
     ]
    },
    {
     "name": "stdout",
     "output_type": "stream",
     "text": [
      "./data/HED-BSDS/test/235098.jpg\n",
      "./data/HED-BSDS/test/238025.jpg\n",
      "./data/HED-BSDS/test/243095.jpg\n",
      "./data/HED-BSDS/test/246009.jpg\n",
      "./data/HED-BSDS/test/247003.jpg\n",
      "./data/HED-BSDS/test/247012.jpg\n"
     ]
    },
    {
     "name": "stderr",
     "output_type": "stream",
     "text": [
      "118it [00:05, 24.57it/s]"
     ]
    },
    {
     "name": "stdout",
     "output_type": "stream",
     "text": [
      "./data/HED-BSDS/test/249021.jpg\n",
      "./data/HED-BSDS/test/250047.jpg\n",
      "./data/HED-BSDS/test/250087.jpg\n",
      "./data/HED-BSDS/test/253016.jpg\n",
      "./data/HED-BSDS/test/253092.jpg\n",
      "./data/HED-BSDS/test/257098.jpg\n"
     ]
    },
    {
     "name": "stderr",
     "output_type": "stream",
     "text": [
      "124it [00:05, 26.16it/s]"
     ]
    },
    {
     "name": "stdout",
     "output_type": "stream",
     "text": [
      "./data/HED-BSDS/test/258089.jpg\n",
      "./data/HED-BSDS/test/259060.jpg\n",
      "./data/HED-BSDS/test/267036.jpg\n",
      "./data/HED-BSDS/test/268048.jpg\n",
      "./data/HED-BSDS/test/268074.jpg\n",
      "./data/HED-BSDS/test/277053.jpg\n"
     ]
    },
    {
     "name": "stderr",
     "output_type": "stream",
     "text": [
      "130it [00:05, 25.64it/s]"
     ]
    },
    {
     "name": "stdout",
     "output_type": "stream",
     "text": [
      "./data/HED-BSDS/test/279005.jpg\n",
      "./data/HED-BSDS/test/28083.jpg\n",
      "./data/HED-BSDS/test/281017.jpg\n",
      "./data/HED-BSDS/test/285022.jpg\n",
      "./data/HED-BSDS/test/288024.jpg\n"
     ]
    },
    {
     "name": "stderr",
     "output_type": "stream",
     "text": [
      "\r",
      "133it [00:05, 26.00it/s]"
     ]
    },
    {
     "name": "stdout",
     "output_type": "stream",
     "text": [
      "./data/HED-BSDS/test/289011.jpg\n",
      "./data/HED-BSDS/test/290035.jpg\n",
      "./data/HED-BSDS/test/29030.jpg\n",
      "./data/HED-BSDS/test/296028.jpg\n",
      "./data/HED-BSDS/test/296058.jpg\n",
      "./data/HED-BSDS/test/302022.jpg\n"
     ]
    },
    {
     "name": "stderr",
     "output_type": "stream",
     "text": [
      "139it [00:05, 24.47it/s]"
     ]
    },
    {
     "name": "stdout",
     "output_type": "stream",
     "text": [
      "./data/HED-BSDS/test/306051.jpg\n",
      "./data/HED-BSDS/test/306052.jpg\n",
      "./data/HED-BSDS/test/3063.jpg\n",
      "./data/HED-BSDS/test/309040.jpg\n",
      "./data/HED-BSDS/test/317043.jpg\n"
     ]
    },
    {
     "name": "stderr",
     "output_type": "stream",
     "text": [
      "145it [00:06, 23.37it/s]"
     ]
    },
    {
     "name": "stdout",
     "output_type": "stream",
     "text": [
      "./data/HED-BSDS/test/326025.jpg\n",
      "./data/HED-BSDS/test/326085.jpg\n",
      "./data/HED-BSDS/test/33044.jpg\n",
      "./data/HED-BSDS/test/334025.jpg\n",
      "./data/HED-BSDS/test/335088.jpg\n"
     ]
    },
    {
     "name": "stderr",
     "output_type": "stream",
     "text": [
      "\r",
      "148it [00:06, 22.88it/s]"
     ]
    },
    {
     "name": "stdout",
     "output_type": "stream",
     "text": [
      "./data/HED-BSDS/test/335094.jpg\n",
      "./data/HED-BSDS/test/344010.jpg\n",
      "./data/HED-BSDS/test/346016.jpg\n",
      "./data/HED-BSDS/test/347031.jpg\n",
      "./data/HED-BSDS/test/35028.jpg\n"
     ]
    },
    {
     "name": "stderr",
     "output_type": "stream",
     "text": [
      "154it [00:06, 24.76it/s]"
     ]
    },
    {
     "name": "stdout",
     "output_type": "stream",
     "text": [
      "./data/HED-BSDS/test/35049.jpg\n",
      "./data/HED-BSDS/test/36046.jpg\n",
      "./data/HED-BSDS/test/365072.jpg\n",
      "./data/HED-BSDS/test/368037.jpg\n",
      "./data/HED-BSDS/test/372019.jpg\n",
      "./data/HED-BSDS/test/376086.jpg\n"
     ]
    },
    {
     "name": "stderr",
     "output_type": "stream",
     "text": [
      "160it [00:06, 24.75it/s]"
     ]
    },
    {
     "name": "stdout",
     "output_type": "stream",
     "text": [
      "./data/HED-BSDS/test/384022.jpg\n",
      "./data/HED-BSDS/test/384089.jpg\n",
      "./data/HED-BSDS/test/385022.jpg\n",
      "./data/HED-BSDS/test/388006.jpg\n",
      "./data/HED-BSDS/test/388018.jpg\n"
     ]
    },
    {
     "name": "stderr",
     "output_type": "stream",
     "text": [
      "166it [00:07, 24.05it/s]"
     ]
    },
    {
     "name": "stdout",
     "output_type": "stream",
     "text": [
      "./data/HED-BSDS/test/388067.jpg\n",
      "./data/HED-BSDS/test/393035.jpg\n",
      "./data/HED-BSDS/test/41006.jpg\n",
      "./data/HED-BSDS/test/41029.jpg\n",
      "./data/HED-BSDS/test/41085.jpg\n"
     ]
    },
    {
     "name": "stderr",
     "output_type": "stream",
     "text": [
      "172it [00:07, 24.31it/s]"
     ]
    },
    {
     "name": "stdout",
     "output_type": "stream",
     "text": [
      "./data/HED-BSDS/test/41096.jpg\n",
      "./data/HED-BSDS/test/43033.jpg\n",
      "./data/HED-BSDS/test/43051.jpg\n",
      "./data/HED-BSDS/test/45000.jpg\n",
      "./data/HED-BSDS/test/48017.jpg\n"
     ]
    },
    {
     "name": "stderr",
     "output_type": "stream",
     "text": [
      "\r",
      "175it [00:07, 24.75it/s]"
     ]
    },
    {
     "name": "stdout",
     "output_type": "stream",
     "text": [
      "./data/HED-BSDS/test/48025.jpg\n",
      "./data/HED-BSDS/test/49024.jpg\n",
      "./data/HED-BSDS/test/5096.jpg\n",
      "./data/HED-BSDS/test/51084.jpg\n",
      "./data/HED-BSDS/test/6046.jpg\n"
     ]
    },
    {
     "name": "stderr",
     "output_type": "stream",
     "text": [
      "181it [00:07, 22.50it/s]"
     ]
    },
    {
     "name": "stdout",
     "output_type": "stream",
     "text": [
      "./data/HED-BSDS/test/61034.jpg\n",
      "./data/HED-BSDS/test/64061.jpg\n",
      "./data/HED-BSDS/test/65084.jpg\n",
      "./data/HED-BSDS/test/69000.jpg\n",
      "./data/HED-BSDS/test/69007.jpg\n"
     ]
    },
    {
     "name": "stderr",
     "output_type": "stream",
     "text": [
      "\r",
      "184it [00:07, 22.13it/s]"
     ]
    },
    {
     "name": "stdout",
     "output_type": "stream",
     "text": [
      "./data/HED-BSDS/test/69022.jpg\n",
      "./data/HED-BSDS/test/70011.jpg\n",
      "./data/HED-BSDS/test/70090.jpg\n",
      "./data/HED-BSDS/test/71076.jpg\n",
      "./data/HED-BSDS/test/71099.jpg\n"
     ]
    },
    {
     "name": "stderr",
     "output_type": "stream",
     "text": [
      "190it [00:08, 21.66it/s]"
     ]
    },
    {
     "name": "stdout",
     "output_type": "stream",
     "text": [
      "./data/HED-BSDS/test/77062.jpg\n",
      "./data/HED-BSDS/test/78098.jpg\n",
      "./data/HED-BSDS/test/79073.jpg\n",
      "./data/HED-BSDS/test/80085.jpg\n",
      "./data/HED-BSDS/test/80090.jpg\n"
     ]
    },
    {
     "name": "stderr",
     "output_type": "stream",
     "text": [
      "196it [00:08, 22.58it/s]"
     ]
    },
    {
     "name": "stdout",
     "output_type": "stream",
     "text": [
      "./data/HED-BSDS/test/8068.jpg\n",
      "./data/HED-BSDS/test/81066.jpg\n",
      "./data/HED-BSDS/test/81090.jpg\n",
      "./data/HED-BSDS/test/81095.jpg\n",
      "./data/HED-BSDS/test/87015.jpg\n"
     ]
    },
    {
     "name": "stderr",
     "output_type": "stream",
     "text": [
      "200it [00:08, 23.29it/s]"
     ]
    },
    {
     "name": "stdout",
     "output_type": "stream",
     "text": [
      "./data/HED-BSDS/test/92014.jpg\n",
      "./data/HED-BSDS/test/94095.jpg\n",
      "./data/HED-BSDS/test/97010.jpg\n"
     ]
    },
    {
     "name": "stderr",
     "output_type": "stream",
     "text": [
      "\n"
     ]
    }
   ],
   "source": [
    "for j, data in tqdm(enumerate(test_loader, 0)):\n",
    "    \n",
    "    images, path = data\n",
    "    \n",
    "    print(path[0])\n",
    "\n",
    "    wav_trans_imlist = WT_grayscale_path_input(path[0])\n",
    "    wav_trans_imlist_names  = ['LL', 'LH', 'HL', 'HH']\n",
    "\n",
    "\n",
    "    for i in range(len(wav_trans_imlist)):\n",
    "\n",
    "        # saving image\n",
    "\n",
    "        dir_path, image_path = im_save_path_modifier(path[0], str(wav_trans_imlist_names[i]))\n",
    "        os.makedirs(dir_path, exist_ok=True)\n",
    "        plt.imsave(image_path, wav_trans_imlist[i], cmap = 'gray')\n",
    "\n",
    "        \n",
    "    if(j%100==0):\n",
    "        print(j)"
   ]
  },
  {
   "cell_type": "code",
   "execution_count": 10,
   "metadata": {
    "scrolled": true
   },
   "outputs": [
    {
     "data": {
      "text/plain": [
       "('./data/HED-BSDS/LL/test', './data/HED-BSDS/LL/test/97010.jpg')"
      ]
     },
     "execution_count": 10,
     "metadata": {},
     "output_type": "execute_result"
    }
   ],
   "source": [
    "im_save_path_modifier(path[0],'LL')"
   ]
  },
  {
   "cell_type": "code",
   "execution_count": null,
   "metadata": {},
   "outputs": [],
   "source": []
  }
 ],
 "metadata": {
  "kernelspec": {
   "display_name": "Python 3",
   "language": "python",
   "name": "python3"
  },
  "language_info": {
   "codemirror_mode": {
    "name": "ipython",
    "version": 3
   },
   "file_extension": ".py",
   "mimetype": "text/x-python",
   "name": "python",
   "nbconvert_exporter": "python",
   "pygments_lexer": "ipython3",
   "version": "3.7.6"
  }
 },
 "nbformat": 4,
 "nbformat_minor": 4
}
